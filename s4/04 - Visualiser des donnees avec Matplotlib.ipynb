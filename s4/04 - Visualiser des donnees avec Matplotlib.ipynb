{
 "cells": [
  {
   "cell_type": "markdown",
   "metadata": {},
   "source": [
    "# Visualiser des données avec Matplotlib"
   ]
  },
  {
   "cell_type": "markdown",
   "metadata": {},
   "source": [
    "Matplotlib est une librairie Python permettant de réaliser des visualisations de données. \n",
    "\n",
    "Pandas dispose d'une intégration facile permettant de réaliser des graphes de différentes sortes à partir d'un DataFrame. \n",
    "\n",
    "Dans cette partie, vous apprendrez ainsi à : \n",
    "\n",
    "- Intégrer des visualisations au sein d'un document iPython. \n",
    "- Réaliser des graphiques (lignes, barchart, scatterplots)\n",
    "- Ajouter des titres, ajuster les axes et les couleurs"
   ]
  },
  {
   "cell_type": "markdown",
   "metadata": {},
   "source": [
    "## Paramètres "
   ]
  },
  {
   "cell_type": "markdown",
   "metadata": {},
   "source": [
    "Nous importons les librairies Pandas et Numpy :"
   ]
  },
  {
   "cell_type": "code",
   "execution_count": null,
   "metadata": {},
   "outputs": [],
   "source": [
    "import pandas as pd\n",
    "import numpy as np"
   ]
  },
  {
   "cell_type": "markdown",
   "metadata": {},
   "source": [
    "Le paramètre **inline** permet d'intégrer des graphes au sein d'un document iPython (et non sur une fenêtre extérieure)"
   ]
  },
  {
   "cell_type": "code",
   "execution_count": null,
   "metadata": {},
   "outputs": [],
   "source": [
    "import matplotlib\n",
    "%matplotlib inline"
   ]
  },
  {
   "cell_type": "markdown",
   "metadata": {},
   "source": [
    "## Graphiques de ligne"
   ]
  },
  {
   "cell_type": "markdown",
   "metadata": {},
   "source": [
    "Prenons la Série suivante, de 100 points générés aléatoirement : "
   ]
  },
  {
   "cell_type": "code",
   "execution_count": null,
   "metadata": {},
   "outputs": [],
   "source": [
    "p = pd.DataFrame(np.random.randn(100,1))"
   ]
  },
  {
   "cell_type": "markdown",
   "metadata": {},
   "source": [
    "La méthode **plot** permet de réaliser facilement un graphique de ligne :"
   ]
  },
  {
   "cell_type": "code",
   "execution_count": null,
   "metadata": {},
   "outputs": [],
   "source": [
    "p.plot()"
   ]
  },
  {
   "cell_type": "markdown",
   "metadata": {},
   "source": [
    "Par défaut la méthode plot utilise en abscisse l'index de la Série ou du DataFrame. \n",
    "\n",
    "Nous pouvons appliquer ce type de visualisation au dataset **coffee** : "
   ]
  },
  {
   "cell_type": "code",
   "execution_count": null,
   "metadata": {},
   "outputs": [],
   "source": [
    "coffee = pd.read_csv(\"data/coffee_shop.csv\", \n",
    "                     parse_dates = True, \n",
    "                     index_col=1)"
   ]
  },
  {
   "cell_type": "markdown",
   "metadata": {},
   "source": [
    "Comme nous l'avons vu précédemment, nous parsons le dataset coffee, en utilisant la colonne 1 (de date) comme l'index : "
   ]
  },
  {
   "cell_type": "code",
   "execution_count": null,
   "metadata": {},
   "outputs": [],
   "source": [
    "coffee.head(3)"
   ]
  },
  {
   "cell_type": "markdown",
   "metadata": {},
   "source": [
    "Ce dataset contient une ligne par mois, par localité et par ligne de produit. \n",
    "\n",
    "Si nous souhaitons afficher l'évolution des ventes par mois, nous pouvons tout d'abord grouper : "
   ]
  },
  {
   "cell_type": "code",
   "execution_count": null,
   "metadata": {},
   "outputs": [],
   "source": [
    "coffee_s = coffee['Sales'].groupby(coffee.index).sum()"
   ]
  },
  {
   "cell_type": "markdown",
   "metadata": {},
   "source": [
    "Nous pouvons ensuite appeler la méthode **plot** comme vu précédemment :"
   ]
  },
  {
   "cell_type": "code",
   "execution_count": null,
   "metadata": {},
   "outputs": [],
   "source": [
    "coffee_s.plot()"
   ]
  },
  {
   "cell_type": "markdown",
   "metadata": {},
   "source": [
    "Par défaut, la fonction **plot** ajuste l'axe des ordonnés. Nous pouvons fixer les limites des axes avec les paramètres **xlim** et **ylim** : "
   ]
  },
  {
   "cell_type": "code",
   "execution_count": null,
   "metadata": {},
   "outputs": [],
   "source": [
    "coffee_s.plot(ylim=[0,40000],kind='area')"
   ]
  },
  {
   "cell_type": "markdown",
   "metadata": {},
   "source": [
    "La méthode **plot** peut prendre également le paramètre **kind='area'** si vous souhaitez rendre une aire plutôt qu'une ligne"
   ]
  },
  {
   "cell_type": "markdown",
   "metadata": {},
   "source": [
    "La fonction plot, fonctionne également avec plusieurs valeurs numériques. \n",
    "\n",
    "Si nous souhaitons afficher l'évolution des ventes et de la marge, nous pouvons écrire : "
   ]
  },
  {
   "cell_type": "code",
   "execution_count": null,
   "metadata": {},
   "outputs": [],
   "source": [
    "grouped_sm = coffee[['Sales','Margin']].groupby(coffee.index).sum()\n",
    "\n",
    "grouped_sm.plot(ylim=[0,40000])"
   ]
  },
  {
   "cell_type": "markdown",
   "metadata": {},
   "source": [
    "Nous pouvons également ajouter un titre, grâce au paramètre **title** : "
   ]
  },
  {
   "cell_type": "code",
   "execution_count": null,
   "metadata": {},
   "outputs": [],
   "source": [
    "grouped_sm.plot(title='Evolution des ventes et de la marge, Coffee Shop, 2012 - 2013')"
   ]
  },
  {
   "cell_type": "markdown",
   "metadata": {},
   "source": [
    "## A vous : "
   ]
  },
  {
   "cell_type": "markdown",
   "metadata": {},
   "source": [
    "- Affichez l'évolution mensuelle de la marge et des dépenses\n",
    "- Affichez l'évolution trimestrielle du profit "
   ]
  },
  {
   "cell_type": "markdown",
   "metadata": {},
   "source": [
    "## Graphiques en bâtons"
   ]
  },
  {
   "cell_type": "markdown",
   "metadata": {},
   "source": [
    "Le paramètre **kind** de la méthode **plot** permet de choisir le type de visualisation à afficher. \n",
    "\n",
    "Si nous souhaitons afficher le nombre de ventes par marché, nous pouvons écrire : "
   ]
  },
  {
   "cell_type": "code",
   "execution_count": null,
   "metadata": {},
   "outputs": [],
   "source": [
    "grouped_m = coffee['Sales'].groupby(coffee['Market']).sum()\n",
    "\n",
    "grouped_m.plot(kind='bar')"
   ]
  },
  {
   "cell_type": "markdown",
   "metadata": {},
   "source": [
    "Le paramètre **kind=barh** permet d'afficher des barres, à l'horizontal :"
   ]
  },
  {
   "cell_type": "code",
   "execution_count": null,
   "metadata": {},
   "outputs": [],
   "source": [
    "grouped_m.plot(kind='barh')"
   ]
  },
  {
   "cell_type": "markdown",
   "metadata": {},
   "source": [
    "Une bonne pratique pour explorer rapidement un set de données, est d'utiliser la méthode **value_counts** avec un graphe en bâton. \n",
    "\n",
    "Si nous souhaitons par exemple dénombrer le nombre d'occurence de chacun des produits, nous pouvons écrire : "
   ]
  },
  {
   "cell_type": "code",
   "execution_count": null,
   "metadata": {},
   "outputs": [],
   "source": [
    "coffee['Product'].value_counts().plot(kind='barh')"
   ]
  },
  {
   "cell_type": "markdown",
   "metadata": {},
   "source": [
    "Nous pouvons également afficher plusieurs dimensions sur un graphe en bâton. \n",
    "\n",
    "Prenons l'exemple des marchés, nous pouvons réaliser un grouping sur deux clés, et afficher la part des Major / Small markets au sein de chacun des Market (East, Central, West, South)"
   ]
  },
  {
   "cell_type": "code",
   "execution_count": null,
   "metadata": {},
   "outputs": [],
   "source": [
    "coffee_mm = coffee['Sales'].groupby([coffee['Market'], coffee['Market Size']]).sum()\n",
    "\n",
    "coffee_mm"
   ]
  },
  {
   "cell_type": "markdown",
   "metadata": {},
   "source": [
    "Si nous appelons la méthode **plot** à partir de ce DataFrame, nous obtenons une ligne par combinaison d'Index : "
   ]
  },
  {
   "cell_type": "code",
   "execution_count": null,
   "metadata": {},
   "outputs": [],
   "source": [
    "coffee_mm.plot(kind='barh')"
   ]
  },
  {
   "cell_type": "markdown",
   "metadata": {},
   "source": [
    "Nous pouvons faire **pivoter** ce graphe, grâce à la fonction **unstack** : "
   ]
  },
  {
   "cell_type": "code",
   "execution_count": null,
   "metadata": {},
   "outputs": [],
   "source": [
    "coffee_mm.unstack()"
   ]
  },
  {
   "cell_type": "markdown",
   "metadata": {},
   "source": [
    "Ce qui en graphe donne : "
   ]
  },
  {
   "cell_type": "code",
   "execution_count": null,
   "metadata": {},
   "outputs": [],
   "source": [
    "coffee_mm.unstack().plot(kind='barh')"
   ]
  },
  {
   "cell_type": "markdown",
   "metadata": {},
   "source": [
    "Nous pouvons enfin 'empiler' chacun de ces graphes, grâce au paramètre **stacked** : "
   ]
  },
  {
   "cell_type": "code",
   "execution_count": null,
   "metadata": {},
   "outputs": [],
   "source": [
    "coffee_mm.unstack().plot(kind='barh', stacked=True)"
   ]
  },
  {
   "cell_type": "markdown",
   "metadata": {},
   "source": [
    "## A vous :"
   ]
  },
  {
   "cell_type": "markdown",
   "metadata": {},
   "source": [
    "- Créez un graphe en bâton affichant la part des ventes, des Espresso ou des Coffee par type (Decaf ou Regular)"
   ]
  },
  {
   "cell_type": "markdown",
   "metadata": {},
   "source": [
    "## Histogrammes"
   ]
  },
  {
   "cell_type": "markdown",
   "metadata": {},
   "source": [
    "Les histogrammes permettent de représenter la répartition d'une variable continue. \n",
    "\n",
    "La variable est séparée en classe (ou bins) et nous représentons le nombre d'occurences de cette variable dans cette classe.\n",
    "\n",
    "Pandas permet de réaliser un histogramme à partir d'une série, grâce à la méthode **hist** :"
   ]
  },
  {
   "cell_type": "code",
   "execution_count": null,
   "metadata": {},
   "outputs": [],
   "source": [
    "coffee['Sales'].hist()"
   ]
  },
  {
   "cell_type": "markdown",
   "metadata": {},
   "source": [
    "Nous pouvons modifier le nombre de classes, grâce au paramètre **bins** : "
   ]
  },
  {
   "cell_type": "code",
   "execution_count": null,
   "metadata": {},
   "outputs": [],
   "source": [
    "coffee['Sales'].hist(bins=30)"
   ]
  },
  {
   "cell_type": "markdown",
   "metadata": {},
   "source": [
    "## Nuages de points"
   ]
  },
  {
   "cell_type": "markdown",
   "metadata": {},
   "source": [
    "Les nuages de points sont particulièrement efficaces pour représenter la répartition de données selon deux axes. \n",
    "\n",
    "Les matrices de nuages de points permettent de représenter les mêmes points à travers plusieurs axes. \n",
    "\n",
    "Comme précédemment, nous pouvons facilement tracer un nuage de point, grâce au paramètre **scatter** de la méthode **plot** "
   ]
  },
  {
   "cell_type": "code",
   "execution_count": null,
   "metadata": {},
   "outputs": [],
   "source": [
    "df = pd.DataFrame(np.random.rand(100,2))"
   ]
  },
  {
   "cell_type": "code",
   "execution_count": null,
   "metadata": {},
   "outputs": [],
   "source": [
    "df.plot(kind='scatter',x=0,y=1)"
   ]
  },
  {
   "cell_type": "markdown",
   "metadata": {},
   "source": [
    "A la différence des graphes précédents, un nuage de points nécessite que nous précisions l'abscisse et l'ordonnée, grâce aux paramètres **x** et **y**. \n",
    "\n",
    "Un troisième paramètre, **s** permet de fixer la taille des bulles. "
   ]
  },
  {
   "cell_type": "markdown",
   "metadata": {},
   "source": [
    "## A vous : "
   ]
  },
  {
   "cell_type": "markdown",
   "metadata": {},
   "source": [
    "- Faites un nuage de points des produits par moyenne de ventes et marge mensuelles  "
   ]
  },
  {
   "cell_type": "markdown",
   "metadata": {},
   "source": [
    "La méthode **pd.scatter_matrix** permet de réaliser facilement une matrice de nuages de points à partir d'un dataset à plusieurs variables numériques.\n",
    "\n",
    "Créons un dataframe à partir de coffee avec les colonnes = ['Budget Profit', 'Budget Margin', 'Margin', 'Total Expenses', 'Sales'] :"
   ]
  },
  {
   "cell_type": "code",
   "execution_count": null,
   "metadata": {},
   "outputs": [],
   "source": [
    "mv_df = coffee[['Budget Profit', 'Budget Margin', 'Margin', 'Total Expenses', 'Sales']].groupby(coffee['Product']).mean()"
   ]
  },
  {
   "cell_type": "markdown",
   "metadata": {},
   "source": [
    "Nous pouvons afficher une matrice de nuage de points en appelant la méthode *scatter_matrix*. Il nous faut tout d'abord l'importer avec la commande: "
   ]
  },
  {
   "cell_type": "code",
   "execution_count": null,
   "metadata": {},
   "outputs": [],
   "source": [
    "from pandas.plotting import scatter_matrix"
   ]
  },
  {
   "cell_type": "markdown",
   "metadata": {},
   "source": [
    "Nous pouvons ensuite afficher notre matrice via: "
   ]
  },
  {
   "cell_type": "code",
   "execution_count": null,
   "metadata": {},
   "outputs": [],
   "source": [
    "scatter_matrix(mv_df, figsize=[10,10], s=100)"
   ]
  }
 ],
 "metadata": {
  "kernelspec": {
   "display_name": "Python 3",
   "language": "python",
   "name": "python3"
  },
  "language_info": {
   "codemirror_mode": {
    "name": "ipython",
    "version": 3
   },
   "file_extension": ".py",
   "mimetype": "text/x-python",
   "name": "python",
   "nbconvert_exporter": "python",
   "pygments_lexer": "ipython3",
   "version": "3.6.1"
  }
 },
 "nbformat": 4,
 "nbformat_minor": 1
}
