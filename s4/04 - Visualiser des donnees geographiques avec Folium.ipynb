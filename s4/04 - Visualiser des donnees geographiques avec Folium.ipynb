{
 "cells": [
  {
   "cell_type": "markdown",
   "metadata": {},
   "source": [
    "# Visualiser des données géographiques avec la librairie Folium"
   ]
  },
  {
   "cell_type": "markdown",
   "metadata": {},
   "source": [
    "Pouvoir représenter une carte est souvent une composante essentielle d'une analyse de données. \n",
    "\n",
    "La librairie **Folium** permet de créer facilement des cartes interactives. Vous pouvez en lire plus sur la documentation officielle - https://www.pypi.python.org/pypi/folium\n",
    "\n",
    "Dans cette partie, vous verrez : \n",
    "\n",
    "- Comment intégrer une carte interactive au sein de l'environnement iPython\n",
    "- Comment tracer des points à partir d\"un DataFrame \n",
    "- Comment tracer des zones, en utilisant des repères TopoJSON"
   ]
  },
  {
   "cell_type": "markdown",
   "metadata": {},
   "source": [
    "## Créer des cartes et des repères"
   ]
  },
  {
   "cell_type": "markdown",
   "metadata": {},
   "source": [
    "Installez la librairie folium depuis votre terminal grâce à pip : "
   ]
  },
  {
   "cell_type": "code",
   "execution_count": null,
   "metadata": {},
   "outputs": [],
   "source": [
    "pip install folium"
   ]
  },
  {
   "cell_type": "markdown",
   "metadata": {},
   "source": [
    "Nous importons tout d'abord la librairie folium ainsi que le module HTML de iPython :"
   ]
  },
  {
   "cell_type": "code",
   "execution_count": null,
   "metadata": {},
   "outputs": [],
   "source": [
    "import folium"
   ]
  },
  {
   "cell_type": "markdown",
   "metadata": {},
   "source": [
    "Nous définissons les paramètres d'affichage de notre carte en précisant son centre:"
   ]
  },
  {
   "cell_type": "code",
   "execution_count": null,
   "metadata": {},
   "outputs": [],
   "source": [
    "m = folium.Map(location=[48.8655909,2.378983])\n",
    "m"
   ]
  },
  {
   "cell_type": "markdown",
   "metadata": {},
   "source": [
    "Nous pouvons ajouter un repère grâce aux méthodes `Marker`, `CircleMarket`: "
   ]
  },
  {
   "cell_type": "code",
   "execution_count": null,
   "metadata": {},
   "outputs": [],
   "source": [
    "folium.CircleMarker(\n",
    "    location=[48.89157,2.24099],\n",
    "    radius=50,\n",
    "    color='#3186cc',\n",
    ").add_to(m)\n",
    "\n",
    "m"
   ]
  },
  {
   "cell_type": "code",
   "execution_count": null,
   "metadata": {},
   "outputs": [],
   "source": [
    "folium.Marker(\n",
    "    location=[48.89157,2.24099],\n",
    ").add_to(m)\n",
    "\n",
    "m"
   ]
  },
  {
   "cell_type": "markdown",
   "metadata": {},
   "source": [
    "Nous pouvons enfin ajouter du contenu au sein de la pop up des marqueurs que nous avons créé, en passant un chaine de caractère au sein de la méthode **popup**"
   ]
  },
  {
   "cell_type": "code",
   "execution_count": null,
   "metadata": {},
   "outputs": [],
   "source": [
    "folium.Marker(\n",
    "    location=[48.89157,2.24099],\n",
    "    popup='Hello!',\n",
    ").add_to(m)\n",
    "\n",
    "m"
   ]
  },
  {
   "cell_type": "markdown",
   "metadata": {},
   "source": [
    "## Créer des repères à partir d'un DataFrame"
   ]
  },
  {
   "cell_type": "markdown",
   "metadata": {},
   "source": [
    "Nous pouvons donc appliquer la même méthode à partir de données issues d'un DataFrame. \n",
    "\n",
    "Nous pouvons par exemple afficher une carte de France des emplacements des restaurants McDonalds. "
   ]
  },
  {
   "cell_type": "markdown",
   "metadata": {},
   "source": [
    "Nous importons pandas : "
   ]
  },
  {
   "cell_type": "code",
   "execution_count": null,
   "metadata": {},
   "outputs": [],
   "source": [
    "import pandas as pd"
   ]
  },
  {
   "cell_type": "markdown",
   "metadata": {},
   "source": [
    "Nous chargeons le fichier McDonalds_Fr. Celui-ci contient les latitudes, longitudes et nom de tous les McDonalds de France : "
   ]
  },
  {
   "cell_type": "code",
   "execution_count": null,
   "metadata": {},
   "outputs": [],
   "source": [
    "mcdo = pd.read_csv(\"data/McDonalds_Fr.csv\",encoding='latin-1')\n",
    "mcdo.head(3)"
   ]
  },
  {
   "cell_type": "code",
   "execution_count": null,
   "metadata": {},
   "outputs": [],
   "source": [
    "mcdo.count()"
   ]
  },
  {
   "cell_type": "markdown",
   "metadata": {},
   "source": [
    "Comme précédemment, nous déclarons une carte Folium : "
   ]
  },
  {
   "cell_type": "code",
   "execution_count": null,
   "metadata": {},
   "outputs": [],
   "source": [
    "map_mcdo= folium.Map(location=[48.8655909,2.378983], \n",
    "                     zoom_start=5, \n",
    "                     tiles='Stamen Toner')"
   ]
  },
  {
   "cell_type": "markdown",
   "metadata": {},
   "source": [
    "Nous réalisons une boucle à partir des valeurs de notre DataFrame :"
   ]
  },
  {
   "cell_type": "code",
   "execution_count": null,
   "metadata": {},
   "outputs": [],
   "source": [
    "for x in mcdo.values:\n",
    "    location = []\n",
    "    location.append(x[1])\n",
    "    location.append(x[0])\n",
    "    \n",
    "    folium.CircleMarker(\n",
    "        location=location,\n",
    "        radius=4,\n",
    "        color='red',\n",
    "        popup=x[2]\n",
    "    ).add_to(map_mcdo)\n",
    "    "
   ]
  },
  {
   "cell_type": "markdown",
   "metadata": {},
   "source": [
    "Nous appelons enfin la méthode **inline_map** pour afficher notre carte : "
   ]
  },
  {
   "cell_type": "code",
   "execution_count": null,
   "metadata": {},
   "outputs": [],
   "source": [
    "map_mcdo"
   ]
  },
  {
   "cell_type": "markdown",
   "metadata": {},
   "source": [
    "## Créer des zones géographiques à partir de pandas et des fichiers GeoJSON"
   ]
  },
  {
   "cell_type": "markdown",
   "metadata": {},
   "source": [
    "Folium vous permet également de créer vos propres polygônes géographiques en se basant sur les standard TopoJSON / GeoJSON. Comme leur nom l'indique, ces fichiers sont des fichiers JSON décrivant les frontières d'une zone géographique à tracer. \n",
    "\n",
    "Il existe de nombreuses ressources en ligne permettant de récupérer des fichiers TopoJSON existant ou de construire les siens. \n",
    "\n",
    "Nous prendrons dans cet exemple des fichiers issus de ce repo GitHub - https://github.com/gregoiredavid/france-geojson où sont disponibles les communes, les départements et les régions. "
   ]
  },
  {
   "cell_type": "markdown",
   "metadata": {},
   "source": [
    "Nous allons dans cet exemple, réaliser une carte du taux de chômage en France, par département. "
   ]
  },
  {
   "cell_type": "markdown",
   "metadata": {},
   "source": [
    "La méthode **GeoJSON** permet d'afficher une zone géographique sur une carte. Il suffit dans ce cas de passer en argument le fichier TopoJSON source : "
   ]
  },
  {
   "cell_type": "code",
   "execution_count": null,
   "metadata": {},
   "outputs": [],
   "source": [
    "map_departement = folium.Map(location=[48,2], \n",
    "                             zoom_start=3)\n",
    "\n",
    "folium.GeoJson(\n",
    "    \"data/departements.json\",\n",
    "    name='geojson'\n",
    ").add_to(map_departement)"
   ]
  },
  {
   "cell_type": "code",
   "execution_count": null,
   "metadata": {},
   "outputs": [],
   "source": [
    "map_departement"
   ]
  },
  {
   "cell_type": "markdown",
   "metadata": {},
   "source": [
    "L'une des fonctionnalités assez sympa de Folium est la possibilité de s'interfacer avec un DataFrame Pandas. Voyez plutôt : "
   ]
  },
  {
   "cell_type": "markdown",
   "metadata": {},
   "source": [
    "Nous créons un DataFrame **dep_data** à partir des données de chômage dont nous disposons :"
   ]
  },
  {
   "cell_type": "code",
   "execution_count": null,
   "metadata": {},
   "outputs": [],
   "source": [
    "dep_data = pd.read_csv('data/dep_chomage.csv')"
   ]
  },
  {
   "cell_type": "code",
   "execution_count": null,
   "metadata": {},
   "outputs": [],
   "source": [
    "dep_data.head()"
   ]
  },
  {
   "cell_type": "markdown",
   "metadata": {},
   "source": [
    "Nous créons ensuite notre objet map_chomage en spécifiant nos paramètres :"
   ]
  },
  {
   "cell_type": "code",
   "execution_count": null,
   "metadata": {},
   "outputs": [],
   "source": [
    "map_chomage = folium.Map(location=[48,2], zoom_start=3)"
   ]
  },
  {
   "cell_type": "markdown",
   "metadata": {},
   "source": [
    "Nous réalisons ensuite le binding entre les données de notre DataFrame et nos départements. \n",
    "\n",
    "Plusieurs éléments sont à noter: \n",
    "    \n",
    "- Nous sélectionnons au sein de **column**, deux colonnes. La première doit présenter une clé commune avec notre fichier TopoJSON\n",
    "- Le paramètre **key_on** précise la clé à utiliser, au sein du fichier TopoJSON pour lier nos données.  "
   ]
  },
  {
   "cell_type": "code",
   "execution_count": null,
   "metadata": {},
   "outputs": [],
   "source": [
    "folium.Choropleth(\n",
    "    geo_data=\"data/departements.json\",\n",
    "    name='choropleth',\n",
    "    data=dep_data,\n",
    "    columns=['CODE_DEPT', 'TAUX_CHOMAGE'],\n",
    "    key_on='feature.properties.code',\n",
    "    fill_color='YlGn',\n",
    "    fill_opacity=0.7,\n",
    "    line_opacity=0.2,\n",
    "    legend_name='Taux de chômage (%)'\n",
    ").add_to(map_chomage)"
   ]
  },
  {
   "cell_type": "code",
   "execution_count": null,
   "metadata": {},
   "outputs": [],
   "source": [
    "map_chomage"
   ]
  }
 ],
 "metadata": {
  "kernelspec": {
   "display_name": "Python 3",
   "language": "python",
   "name": "python3"
  },
  "language_info": {
   "codemirror_mode": {
    "name": "ipython",
    "version": 3
   },
   "file_extension": ".py",
   "mimetype": "text/x-python",
   "name": "python",
   "nbconvert_exporter": "python",
   "pygments_lexer": "ipython3",
   "version": "3.6.1"
  }
 },
 "nbformat": 4,
 "nbformat_minor": 1
}
