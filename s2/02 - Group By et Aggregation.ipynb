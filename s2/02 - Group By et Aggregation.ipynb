{
 "cells": [
  {
   "cell_type": "markdown",
   "metadata": {},
   "source": [
    "# Group by et Aggrégation "
   ]
  },
  {
   "cell_type": "markdown",
   "metadata": {},
   "source": [
    "Grouper un set de données suivant une ou plusieurs dimensions et appliquer une réduction est une composante clé de toute analyse. \n",
    "\n",
    "Le langage SQL ainsi que les tableaux croisés dynamiques offrent de premières fonctions de Grouping. \n",
    "\n",
    "Dans ce chapitre vous apprendrez : \n",
    "\n",
    "- La logique du Groupby avec Pandas\n",
    "- Comment réaliser des réductions avec des fonctions standards ou customisées\n",
    "- Vos premières exploration de données"
   ]
  },
  {
   "cell_type": "markdown",
   "metadata": {},
   "source": [
    "## Group By"
   ]
  },
  {
   "cell_type": "code",
   "execution_count": null,
   "metadata": {},
   "outputs": [],
   "source": [
    "import pandas as pd\n",
    "import numpy as np"
   ]
  },
  {
   "cell_type": "markdown",
   "metadata": {},
   "source": [
    "La mécanique du group by peut être résumé suivant le schéma ci-dessous : \n",
    "    \n",
    "   - **Split** : un set de données est séparé suivant des clés\n",
    "   - **Apply** : une fonction est appliquée sur chacun de ces groupes \n",
    "   - **Combine** : les résultats sont ensuite regroupés au sein d'un seul objet "
   ]
  },
  {
   "cell_type": "markdown",
   "metadata": {},
   "source": [
    "<img src='files/images/groupby.png' width=500>\n",
    "\n",
    "> <cite>Source: Python for Data Analysis</cite>"
   ]
  },
  {
   "cell_type": "markdown",
   "metadata": {},
   "source": [
    "Nous allons utiliser dans cet exemple le set de données ***reserve_parlementaire.csv*** (Il s'agit de la liste des réserves parlementaries mises en ligne en 2011). \n",
    "\n",
    "Pour en savoir plus sur la réserve parlementaire - http://www.lemonde.fr/les-decodeurs/article/2015/02/12/le-detail-des-80-millions-de-la-reserve-parlementaire-2014-publie_4575418_4355770.html\n",
    "\n",
    "Importons ce fichier et inspectons le : "
   ]
  },
  {
   "cell_type": "code",
   "execution_count": null,
   "metadata": {},
   "outputs": [],
   "source": [
    "reserve = pd.read_csv(\"data/reserve.csv\")\n",
    "reserve.head(3)"
   ]
  },
  {
   "cell_type": "markdown",
   "metadata": {},
   "source": [
    "Nous souhaitons savoir quel est le Groupe politique ayant reçu le plus de subventions. \n",
    "\n",
    "On souhaite donc **grouper** les données suivant la colonne ***Groupe politique du parlementaire***, puis sommer les données de la colonne ***Subvention allouée***. \n",
    "\n",
    "Nous utilisons pour cela la méthode **groupby** :"
   ]
  },
  {
   "cell_type": "code",
   "execution_count": null,
   "metadata": {},
   "outputs": [],
   "source": [
    "partis = reserve['Subvention allouée'].groupby(reserve['Groupe politique du parlementaire'])\n",
    "\n",
    "print(partis)"
   ]
  },
  {
   "cell_type": "markdown",
   "metadata": {},
   "source": [
    "L'objet ***partis*** renvoyé est une série groupée. Aucun calcul n'a encore été réalisé. \n",
    "\n",
    "Si nous souhaitons sommer les résultats, nous pouvons appliquer une fonction. Ici grâce à la méthode **sum**"
   ]
  },
  {
   "cell_type": "code",
   "execution_count": null,
   "metadata": {},
   "outputs": [],
   "source": [
    "partis.sum()"
   ]
  },
  {
   "cell_type": "markdown",
   "metadata": {},
   "source": [
    "D'autres aggrégations sont possibles : la méthode **count** permet par exemple de renvoyer la taille d'un groupe (ici le nombre de subventions par partis politiques). "
   ]
  },
  {
   "cell_type": "code",
   "execution_count": null,
   "metadata": {},
   "outputs": [],
   "source": [
    "partis.count()"
   ]
  },
  {
   "cell_type": "markdown",
   "metadata": {},
   "source": [
    "### A vous : "
   ]
  },
  {
   "cell_type": "markdown",
   "metadata": {},
   "source": [
    "   - Quelle a été la plus grande subvention allouée en 2011 ? \n",
    "   - Quel est le parlementaire qui a reçu le plus grand nombre de subventions ? \n",
    "   - Quel est le parlementaire qui a reçu le plus de subventions en valeur ? \n",
    "   - Quel est le département qui a reçu le plus de subventions ? "
   ]
  },
  {
   "cell_type": "code",
   "execution_count": null,
   "metadata": {},
   "outputs": [],
   "source": [
    "reserve = pd.read_csv(\"data/reserve.csv\")\n",
    "reserve.head(2)"
   ]
  },
  {
   "cell_type": "markdown",
   "metadata": {},
   "source": [
    "Nous pouvons appliquer plusieurs clés : **quel est le nombre de subventions par partis politiques et par chambre ?**"
   ]
  },
  {
   "cell_type": "code",
   "execution_count": null,
   "metadata": {},
   "outputs": [],
   "source": [
    "chambres = reserve['Subvention allouée'].groupby([reserve['Groupe politique du parlementaire'],reserve['Nature']]).count()\n",
    "chambres"
   ]
  },
  {
   "cell_type": "markdown",
   "metadata": {},
   "source": [
    "Nous créons dans ce cas une série avec deux index (partis et nature). \n",
    "\n",
    "Nous pouvons faire 'déplier' cette série avec la méthode **unstack** :"
   ]
  },
  {
   "cell_type": "code",
   "execution_count": null,
   "metadata": {},
   "outputs": [],
   "source": [
    "groupes_chambres = chambres.unstack()\n",
    "groupes_chambres"
   ]
  },
  {
   "cell_type": "markdown",
   "metadata": {},
   "source": [
    "Nous pouvons également grouper sans spécifier de colonne. Si les données à grouper se trouvent dans mon DataFrame, je peux grouper de la façon suivante : "
   ]
  },
  {
   "cell_type": "code",
   "execution_count": null,
   "metadata": {},
   "outputs": [],
   "source": [
    "reserve.groupby('Nature').count()"
   ]
  },
  {
   "cell_type": "markdown",
   "metadata": {},
   "source": [
    "(Attention aux aggrégations hâtives ;))"
   ]
  },
  {
   "cell_type": "markdown",
   "metadata": {},
   "source": [
    "### A vous : "
   ]
  },
  {
   "cell_type": "markdown",
   "metadata": {},
   "source": [
    "- Quelle est la moyenne des coûts de projets par type d'assemblée ? \n",
    "- Combien de projets le Sénat a - t-il financé dans les Yvelines ? \n",
    "- Quelle a été la subvention allouée pour à Paris ? "
   ]
  },
  {
   "cell_type": "markdown",
   "metadata": {},
   "source": [
    "Pandas nous permet également de passer des dictionnaires ou des séries au sein des groupes. \n",
    "\n",
    "Cela est intéressant lorsque nous souhaitons faire un mapping entre les colonnes (ou les lignes). \n",
    "\n",
    "Dans notre cas, les acronymes entre l'Assemblée Nationale et le Sénat varient (i.e : SOC et SRC désignent tous deux les groupes du Parti Socialiste). On peut donc écrire la correspondance suivante : "
   ]
  },
  {
   "cell_type": "code",
   "execution_count": null,
   "metadata": {},
   "outputs": [],
   "source": [
    "mapping = {'CRC':'Partis de Gauche', \n",
    "           'CRC-SPG':'Partis de Gauche', \n",
    "           'ECO':'Ecologistes', \n",
    "           'GDR':'Radicaux', \n",
    "           'NC':'Centristes', \n",
    "           'NI':'Non Inscrits', \n",
    "           'RDSE':'Radicaux',\n",
    "           'SOC':'Parti Socialiste',\n",
    "           'SOCV':'Parti Socialiste',\n",
    "           'SRC':'Parti Socialiste',\n",
    "           'UC':'Centristes', \n",
    "           'UDI':'Centristes', \n",
    "           'UMP':'Union Mouvement Populaire'}"
   ]
  },
  {
   "cell_type": "markdown",
   "metadata": {},
   "source": [
    "Dans ce cas, nous souhaitons grouper selon la correspondance des index (axis =0) du DataFrame **groupes_chambres** avec le dictionnaire **mapping**, soit : "
   ]
  },
  {
   "cell_type": "code",
   "execution_count": null,
   "metadata": {},
   "outputs": [],
   "source": [
    "groupes_chambres"
   ]
  },
  {
   "cell_type": "code",
   "execution_count": null,
   "metadata": {},
   "outputs": [],
   "source": [
    "groupes_chambres.groupby(mapping, axis=0).sum()"
   ]
  },
  {
   "cell_type": "markdown",
   "metadata": {},
   "source": [
    "Une autre façon de réaliser facilement des mapping, est d'utiliser la méthode **map** sur une série. Dans notre cas : "
   ]
  },
  {
   "cell_type": "code",
   "execution_count": null,
   "metadata": {},
   "outputs": [],
   "source": [
    "reserve['parti'] = reserve['Groupe politique du parlementaire'].map(mapping)\n",
    "reserve.head(2)"
   ]
  },
  {
   "cell_type": "markdown",
   "metadata": {},
   "source": [
    "## Agrégation"
   ]
  },
  {
   "cell_type": "markdown",
   "metadata": {},
   "source": [
    "L'aggrégation de données correspond à une transformation d'un tableau de données en une valeur. \n",
    "\n",
    "Pandas permet d'accéder à des agrégations génériques (moyennes, somme etc..), mais il est également possible de créer ses propres fonctions d'agrégation. "
   ]
  },
  {
   "cell_type": "markdown",
   "metadata": {},
   "source": [
    "Il est ainsi possible d'aggréger ses données en utilisant plusieurs fonctions d'agrégations. Déclarons par exemple les trois fonctions suivantes moyenne, maximum et minimum : "
   ]
  },
  {
   "cell_type": "code",
   "execution_count": null,
   "metadata": {},
   "outputs": [],
   "source": [
    "functions = ['mean','max','min']"
   ]
  },
  {
   "cell_type": "markdown",
   "metadata": {},
   "source": [
    "Nous pouvons appeler la méthode **agg** qui appliquera pour chacun des groupes les fonctions appelées. \n",
    "\n",
    "Si nous souhaitons par exemple afficher la moyenne, le maximum et le minimum des subventions allouée par parti politique, nous pouvons écrire : "
   ]
  },
  {
   "cell_type": "code",
   "execution_count": null,
   "metadata": {},
   "outputs": [],
   "source": [
    "reserve.groupby('parti').agg(functions)"
   ]
  },
  {
   "cell_type": "markdown",
   "metadata": {},
   "source": [
    "Il est également possible de définir ses propres aggrégations grâce à la méthode **apply**\n",
    "\n",
    "Comme précisé précédemment, la méthode **apply** sépare un set de données suivant les clés spécifier dans la méthode **groupby** puis applique la fonction appelée en paramètre. \n",
    "\n",
    "Nous défninissons la fonction **part** qui renvoie la moyenne du ratio subvention allouée / coût du projet : "
   ]
  },
  {
   "cell_type": "code",
   "execution_count": null,
   "metadata": {},
   "outputs": [],
   "source": [
    "def part(df):\n",
    "    return np.mean(df['Subvention allouée']/df['Coût du projet'])"
   ]
  },
  {
   "cell_type": "markdown",
   "metadata": {},
   "source": [
    "La moyenne totale de la part des projets subventionnées peut donc s'écrire : "
   ]
  },
  {
   "cell_type": "code",
   "execution_count": null,
   "metadata": {},
   "outputs": [],
   "source": [
    "part(reserve)"
   ]
  },
  {
   "cell_type": "markdown",
   "metadata": {},
   "source": [
    "Il est dès lors possible d'appliqer la fonction **part** avec un groupby pour obtenir la part des subventions par Département : "
   ]
  },
  {
   "cell_type": "code",
   "execution_count": null,
   "metadata": {},
   "outputs": [],
   "source": [
    "reserve.groupby('Département').apply(part).sort_values(ascending=False)"
   ]
  },
  {
   "cell_type": "markdown",
   "metadata": {},
   "source": [
    "### A vous : "
   ]
  },
  {
   "cell_type": "markdown",
   "metadata": {},
   "source": [
    "- Quel est la part subventionnée des projets par partis politiques ? \n",
    "- Quel parlementaire, ayant réalisé plus de 50 subventions, a réalisé le plus de subventions dans sa région ? \n",
    "- Quel est le parti politique qui a réalisé le plus de subventions dans sa région ? "
   ]
  }
 ],
 "metadata": {
  "kernelspec": {
   "display_name": "Python 3",
   "language": "python",
   "name": "python3"
  },
  "language_info": {
   "codemirror_mode": {
    "name": "ipython",
    "version": 3
   },
   "file_extension": ".py",
   "mimetype": "text/x-python",
   "name": "python",
   "nbconvert_exporter": "python",
   "pygments_lexer": "ipython3",
   "version": "3.6.1"
  }
 },
 "nbformat": 4,
 "nbformat_minor": 1
}
