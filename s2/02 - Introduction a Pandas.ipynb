{
 "cells": [
  {
   "cell_type": "markdown",
   "metadata": {},
   "source": [
    "# Introduction à Pandas "
   ]
  },
  {
   "cell_type": "markdown",
   "metadata": {},
   "source": [
    "Pandas est une librairie développée par Wes McKinney en 2008. \n",
    "\n",
    "Pandas étend les fonctions de NumPy et rend la manipulation de données plus aisée. \n",
    "\n",
    "Dans cette partie vous apprendrez : \n",
    "\n",
    "- Les objets de Pandas (Series et DataFrame)\n",
    "- Comment appliquer des fonctions sur un DataFrame\n",
    "- Comment gérer des données manquantes"
   ]
  },
  {
   "cell_type": "code",
   "execution_count": null,
   "metadata": {},
   "outputs": [],
   "source": [
    "import pandas as pd\n",
    "import numpy as np"
   ]
  },
  {
   "cell_type": "markdown",
   "metadata": {},
   "source": [
    "## Pandas Data Structures "
   ]
  },
  {
   "cell_type": "markdown",
   "metadata": {},
   "source": [
    "Pandas repose sur deux data structures clés : les Séries et les DataFrame"
   ]
  },
  {
   "cell_type": "markdown",
   "metadata": {},
   "source": [
    "### Series"
   ]
  },
  {
   "cell_type": "markdown",
   "metadata": {},
   "source": [
    "Les ***Series*** sont des tableaux **indexés**, à **une dimension**, d'éléments de plusieurs types :"
   ]
  },
  {
   "cell_type": "code",
   "execution_count": null,
   "metadata": {},
   "outputs": [],
   "source": [
    "ser = pd.Series([1,-2,3,\"a\"])\n",
    "\n",
    "type(ser)"
   ]
  },
  {
   "cell_type": "markdown",
   "metadata": {},
   "source": [
    "Les Series disposent par défaut d'un index :"
   ]
  },
  {
   "cell_type": "code",
   "execution_count": null,
   "metadata": {},
   "outputs": [],
   "source": [
    "# Ressortir les index d'une série\n",
    "\n",
    "print(ser.index)"
   ]
  },
  {
   "cell_type": "code",
   "execution_count": null,
   "metadata": {},
   "outputs": [],
   "source": [
    "# Ressortir les valeurs d'une série\n",
    "\n",
    "print(ser.values)"
   ]
  },
  {
   "cell_type": "markdown",
   "metadata": {},
   "source": [
    "Pandas étant construit à partir de NumPy, les Series conservent les propriétés du ndarray de NumPy :"
   ]
  },
  {
   "cell_type": "code",
   "execution_count": null,
   "metadata": {},
   "outputs": [],
   "source": [
    "# Conservation des opérations \n",
    "\n",
    "print(ser * 2)"
   ]
  },
  {
   "cell_type": "markdown",
   "metadata": {},
   "source": [
    "Il est possible de créer une Série à partir d'un dictionnaire Python via la méthode ```Series()``` : "
   ]
  },
  {
   "cell_type": "code",
   "execution_count": null,
   "metadata": {},
   "outputs": [],
   "source": [
    "villes = {\"Lyon\":44,\"Marseille\":80,\"Paris\":212,\"Toulouse\":39} \n",
    "\n",
    "ser_villes = pd.Series(villes)\n",
    "\n",
    "ser_villes"
   ]
  },
  {
   "cell_type": "markdown",
   "metadata": {},
   "source": [
    "Il est possible de modifier les index d'une série en utilisant la méthode ```.index``` puis une assignation :"
   ]
  },
  {
   "cell_type": "code",
   "execution_count": null,
   "metadata": {},
   "outputs": [],
   "source": [
    "ser_villes.index = ['69','13','75','31']\n",
    "\n",
    "ser_villes"
   ]
  },
  {
   "cell_type": "code",
   "execution_count": null,
   "metadata": {},
   "outputs": [],
   "source": [
    "# La modification d'index peut être utile \n",
    "\n",
    "zip = ['69','13','75','31']\n",
    "\n",
    "ser_villes.index = zip\n",
    "\n",
    "print(ser_villes)"
   ]
  },
  {
   "cell_type": "markdown",
   "metadata": {},
   "source": [
    "### DataFrames"
   ]
  },
  {
   "cell_type": "markdown",
   "metadata": {},
   "source": [
    "Les **DataFrame** sont des structures données qui contiennent plusieurs colonnes. \n",
    "\n",
    "Comme les Series, celles-ci peuvent contenir plusieurs types de données. "
   ]
  },
  {
   "cell_type": "markdown",
   "metadata": {},
   "source": [
    "On peut créer un DataFrame à partir d'un dictionnaire de liste : "
   ]
  },
  {
   "cell_type": "code",
   "execution_count": null,
   "metadata": {},
   "outputs": [],
   "source": [
    "villes = {'nom':[\"Paris\",\"Marseille\",\"Lyon\",\"Toulouse\"],\n",
    "          'population':[212,80,44,39],\n",
    "          'zip':[\"75\",\"13\",\"69\",\"31\"]}\n",
    "\n",
    "villes"
   ]
  },
  {
   "cell_type": "code",
   "execution_count": null,
   "metadata": {},
   "outputs": [],
   "source": [
    "villes_df = pd.DataFrame(villes) \n",
    "\n",
    "villes_df"
   ]
  },
  {
   "cell_type": "markdown",
   "metadata": {},
   "source": [
    "A la création, on peut spécifier l'ordre des colonnes ainsi que les index à utiliser : "
   ]
  },
  {
   "cell_type": "code",
   "execution_count": null,
   "metadata": {},
   "outputs": [],
   "source": [
    "villes_df = pd.DataFrame(villes, columns=['nom','population'],\n",
    "                      index = [1,2,3,4])\n",
    "\n",
    "villes_df"
   ]
  },
  {
   "cell_type": "markdown",
   "metadata": {},
   "source": [
    "Basé sur NumPy, on conserve donc les propriétés de sélection : "
   ]
  },
  {
   "cell_type": "code",
   "execution_count": null,
   "metadata": {},
   "outputs": [],
   "source": [
    "# On sélectionne une colonne de deux manières : \n",
    "\n",
    "print(villes_df['nom'])\n",
    "print(villes_df.nom)"
   ]
  },
  {
   "cell_type": "code",
   "execution_count": null,
   "metadata": {},
   "outputs": [],
   "source": [
    "# On sélectionne une ligne en utilisant la méthode iloc[index] :\n",
    "\n",
    "print(villes_df.iloc[3])"
   ]
  },
  {
   "cell_type": "markdown",
   "metadata": {},
   "source": [
    "L'assignation fonctionne sous la même logique que sous NumPy (vous commencez à comprendre !) :"
   ]
  },
  {
   "cell_type": "code",
   "execution_count": null,
   "metadata": {},
   "outputs": [],
   "source": [
    "villes_df['dette'] = np.arange(1,5)*1000\n",
    "\n",
    "villes_df "
   ]
  },
  {
   "cell_type": "markdown",
   "metadata": {},
   "source": [
    "## Fonctions de base "
   ]
  },
  {
   "cell_type": "markdown",
   "metadata": {},
   "source": [
    "Pandas offre un set de fonctions basiques qui facilitent grandement le traitement de données. En voici quelques unes : "
   ]
  },
  {
   "cell_type": "markdown",
   "metadata": {},
   "source": [
    "### Reindexing"
   ]
  },
  {
   "cell_type": "markdown",
   "metadata": {},
   "source": [
    "Le **Reindexing** permet de modifier un dataframe conformément à un nouvel index : "
   ]
  },
  {
   "cell_type": "code",
   "execution_count": null,
   "metadata": {},
   "outputs": [],
   "source": [
    "villes_df"
   ]
  },
  {
   "cell_type": "code",
   "execution_count": null,
   "metadata": {},
   "outputs": [],
   "source": [
    "# On crée ici un nouveau DataFrame villes_df2 basé sur villes_df, mais sur un index différent\n",
    "\n",
    "villes_df2 = villes_df.reindex([1,3,5])\n",
    "villes_df2"
   ]
  },
  {
   "cell_type": "markdown",
   "metadata": {},
   "source": [
    "Un index n'existe pas dans notre nouvel objet (il s'agit de l'index #5). Pandas crée des valeurs NaN (Not a Number) pour ces valeurs.\n",
    "\n",
    "Nous pouvons remplacer ces valeurs, par des valeurs nulles par exemple, en utilisant la méthode ***fill_value***"
   ]
  },
  {
   "cell_type": "code",
   "execution_count": null,
   "metadata": {},
   "outputs": [],
   "source": [
    "# Remplaçons les valeurs NaN par des 0\n",
    "\n",
    "villes_df2.fillna(0) "
   ]
  },
  {
   "cell_type": "code",
   "execution_count": null,
   "metadata": {},
   "outputs": [],
   "source": [
    "# Ou dès la création du Dataframe villes_df2 par \n",
    "\n",
    "villes_df2 = villes_df.reindex([1,3,5], fill_value=0)\n",
    "\n",
    "villes_df2  "
   ]
  },
  {
   "cell_type": "markdown",
   "metadata": {},
   "source": [
    "### Supprimer des éléments"
   ]
  },
  {
   "cell_type": "markdown",
   "metadata": {},
   "source": [
    "La méthode **drop** permet de supprimer des éléments à partir des index (axis = 0) ou à partir des colonnes (axis = 1)"
   ]
  },
  {
   "cell_type": "code",
   "execution_count": null,
   "metadata": {},
   "outputs": [],
   "source": [
    "villes_df"
   ]
  },
  {
   "cell_type": "code",
   "execution_count": null,
   "metadata": {},
   "outputs": [],
   "source": [
    "# Les index correspondent aux lignes d'un DataFrame (axis = 0)\n",
    "\n",
    "print(villes_df.index)"
   ]
  },
  {
   "cell_type": "code",
   "execution_count": null,
   "metadata": {},
   "outputs": [],
   "source": [
    "# Les columns correspondent aux colonnes d'un DataFrame (axis = 1)\n",
    "\n",
    "print(villes_df.columns)"
   ]
  },
  {
   "cell_type": "code",
   "execution_count": null,
   "metadata": {},
   "outputs": [],
   "source": [
    "# Supprimer la ligne correspondant à l'index 2 (ici Marseille)\n",
    "\n",
    "villes_df.drop(2, axis=0)"
   ]
  },
  {
   "cell_type": "code",
   "execution_count": null,
   "metadata": {},
   "outputs": [],
   "source": [
    "# Supprimer la colonne correspondant à la colonne 'population' \n",
    "\n",
    "villes_df.drop('population',axis=1)"
   ]
  },
  {
   "cell_type": "markdown",
   "metadata": {},
   "source": [
    "### Sélectionner et filtrer "
   ]
  },
  {
   "cell_type": "markdown",
   "metadata": {},
   "source": [
    "La sélection fonctionne comme pour les ndarray sous NumPy : "
   ]
  },
  {
   "cell_type": "code",
   "execution_count": null,
   "metadata": {},
   "outputs": [],
   "source": [
    "# Sélectionner une colonne \n",
    "\n",
    "villes_df['nom']"
   ]
  },
  {
   "cell_type": "code",
   "execution_count": null,
   "metadata": {},
   "outputs": [],
   "source": [
    "# Pour sélectionner plusieurs colonnes, nous passons une liste de noms des colonnes : \n",
    "\n",
    "villes_df[['nom','population']]"
   ]
  },
  {
   "cell_type": "code",
   "execution_count": null,
   "metadata": {},
   "outputs": [],
   "source": [
    "# La sélection des lignes, fonctionne avec les index \n",
    "\n",
    "villes_df.iloc[1:2]"
   ]
  },
  {
   "cell_type": "code",
   "execution_count": null,
   "metadata": {},
   "outputs": [],
   "source": [
    "# La sélection par opérateurs booléens fonctionne de la même manière : \n",
    "\n",
    "villes_df[villes_df['population'] > 40]"
   ]
  },
  {
   "cell_type": "markdown",
   "metadata": {},
   "source": [
    "###  A vous :"
   ]
  },
  {
   "cell_type": "markdown",
   "metadata": {},
   "source": [
    "1) Créez un DataFrame en reprenant le dataset suivant : \n",
    "\n"
   ]
  },
  {
   "cell_type": "code",
   "execution_count": null,
   "metadata": {},
   "outputs": [],
   "source": [
    "villes_stades = {'nom':[\"Paris\",\"Marseille\",\"Lyon\",\"Lens\",\"Toulouse\"],\n",
    "          'population':[212,80,44,32,39],\n",
    "          'zip':[\"75\",\"13\",\"69\",\"62\",\"31\"],\n",
    "          'stade':[49691,42000,41842,12097,35472]}"
   ]
  },
  {
   "cell_type": "markdown",
   "metadata": {},
   "source": [
    "2) Sélectionnez seulement les colonnes des noms de villes et de capacité des stades "
   ]
  },
  {
   "cell_type": "markdown",
   "metadata": {},
   "source": [
    "3) Affichez seulement la ligne correspondant à la ville de Lens"
   ]
  },
  {
   "cell_type": "markdown",
   "metadata": {},
   "source": [
    "4) Affichez seulement les villes ayant un stade supérieur à 30000 places"
   ]
  },
  {
   "cell_type": "markdown",
   "metadata": {},
   "source": [
    "### Alignement des données"
   ]
  },
  {
   "cell_type": "markdown",
   "metadata": {},
   "source": [
    "Une des avancées de Pandas est la réalisation d'opérations entre objets n'ayant pas le même Index :"
   ]
  },
  {
   "cell_type": "code",
   "execution_count": null,
   "metadata": {},
   "outputs": [],
   "source": [
    "# créons deux DataFrame disposant d'index et de taille variable\n",
    "\n",
    "villes1_df = pd.DataFrame(np.arange(9).reshape(3,3),columns=['population','dette','zip'],\n",
    "                      index=['Paris','Marseille','Lyon'])\n",
    "\n",
    "villes2_df = pd.DataFrame(np.arange(12).reshape(4,3),columns=['population','zip','budget'],\n",
    "                       index=['Paris','Nantes','Toulouse','Lyon'])"
   ]
  },
  {
   "cell_type": "code",
   "execution_count": null,
   "metadata": {},
   "outputs": [],
   "source": [
    "villes1_df"
   ]
  },
  {
   "cell_type": "code",
   "execution_count": null,
   "metadata": {},
   "outputs": [],
   "source": [
    "villes2_df"
   ]
  },
  {
   "cell_type": "markdown",
   "metadata": {},
   "source": [
    "L'opération villes1_df + villes2_df renverra l'**intersection** des deux DataFrames (i.e là où les colonnes et les index sont présents dans les deux cas). Soit :"
   ]
  },
  {
   "cell_type": "code",
   "execution_count": null,
   "metadata": {},
   "outputs": [],
   "source": [
    "villes1_df + villes2_df"
   ]
  },
  {
   "cell_type": "markdown",
   "metadata": {},
   "source": [
    "Si nous souhaitons effectuer une opération en complétant les valeurs manquantes soit obtenir l'**union** des deux Dataframes, nous pouvons utiliser la méthode **add** que nous combinons avec la méthode **fill_value**. Dans ce cas nous remplaçons les valeurs manquantes par 0 : "
   ]
  },
  {
   "cell_type": "code",
   "execution_count": null,
   "metadata": {},
   "outputs": [],
   "source": [
    "print(villes2_df.add(villes1_df, fill_value=0))"
   ]
  },
  {
   "cell_type": "markdown",
   "metadata": {},
   "source": [
    "### Applications de fonctions "
   ]
  },
  {
   "cell_type": "markdown",
   "metadata": {},
   "source": [
    "Nous pouvons appliquer les fonctions universelles (universal functions) de NumPy à des DataFrame. \n",
    "\n",
    "Maitriser ces fonctions est une composante essentielle de la maitrise de la manipulation de données sous Pandas. "
   ]
  },
  {
   "cell_type": "code",
   "execution_count": null,
   "metadata": {},
   "outputs": [],
   "source": [
    "# Recréons un DataFrame en spécifiant les colonnes et les index : \n",
    "\n",
    "df1 = pd.DataFrame(np.random.randn(4,3),columns=['population','zip','budget'],\n",
    "                       index=['Paris','Nantes','Toulouse','Lyon'])"
   ]
  },
  {
   "cell_type": "markdown",
   "metadata": {},
   "source": [
    "Définissons une fonction f qui renvoie la différence entre la valeur maximum et la valeur minimum : "
   ]
  },
  {
   "cell_type": "code",
   "execution_count": null,
   "metadata": {},
   "outputs": [],
   "source": [
    "f = lambda x: x.max() - x.min()"
   ]
  },
  {
   "cell_type": "markdown",
   "metadata": {},
   "source": [
    "Pour info, Lambda est une simple convention qui permet de créer une fonction anonyme. Cela revient exactement à déclarer une fonction telle que : "
   ]
  },
  {
   "cell_type": "code",
   "execution_count": null,
   "metadata": {},
   "outputs": [],
   "source": [
    "def g(x):\n",
    "    return x.max() - x.min()"
   ]
  },
  {
   "cell_type": "markdown",
   "metadata": {},
   "source": [
    "Il est maintenant possible (et c'est génial) d'appliquer cette fonction sur notre DataFrame en utilisant la méthode **apply**. Cette méthode prendre comme paramètre l'axe du DataFrame. \n",
    "\n",
    "Cela signifie que si nous voulons obtenir le résultat de f pour chaque colonne, nous appliquons f ligne par ligne (en utilisant donc axis=0) :"
   ]
  },
  {
   "cell_type": "code",
   "execution_count": null,
   "metadata": {},
   "outputs": [],
   "source": [
    "df1.apply(f, axis=0)"
   ]
  },
  {
   "cell_type": "markdown",
   "metadata": {},
   "source": [
    "Voilà un petit schéma pour bien comprendre ce que nous venons de faire. \n",
    "\n",
    "Nous appliquons pour chaque ligne (selon l'axe 0) la fonction f. "
   ]
  },
  {
   "cell_type": "markdown",
   "metadata": {},
   "source": [
    "<img src='files/images/faxis0.png'>"
   ]
  },
  {
   "cell_type": "markdown",
   "metadata": {},
   "source": [
    "Si nous souhaitons réaliser la même opération pour chaque ville, nous pouvons utiliser la même fonction selon l'axe 1 soit : "
   ]
  },
  {
   "cell_type": "code",
   "execution_count": null,
   "metadata": {},
   "outputs": [],
   "source": [
    "df1.apply(f,axis=1)"
   ]
  },
  {
   "cell_type": "markdown",
   "metadata": {},
   "source": [
    "En utilisant le même schéma, cela peut se représenter à nouveau ainsi : "
   ]
  },
  {
   "cell_type": "markdown",
   "metadata": {},
   "source": [
    "<img src='files/images/faxis1.png'>"
   ]
  },
  {
   "cell_type": "markdown",
   "metadata": {},
   "source": [
    "### A vous :"
   ]
  },
  {
   "cell_type": "markdown",
   "metadata": {},
   "source": [
    "1) Reprenez le dataset des villes et de la capacité des stades"
   ]
  },
  {
   "cell_type": "code",
   "execution_count": null,
   "metadata": {},
   "outputs": [],
   "source": [
    "villes_stades = {'nom':[\"Paris\",\"Marseille\",\"Lyon\",\"Lens\",\"Toulouse\"],\n",
    "          'population':[212,80,44,32,39],\n",
    "          'stade':[49691,42000,41842,12097,35472]}"
   ]
  },
  {
   "cell_type": "markdown",
   "metadata": {},
   "source": [
    "2) Créez un DataFrame avec le dataset en mettant le nom des villes en index"
   ]
  },
  {
   "cell_type": "markdown",
   "metadata": {},
   "source": [
    "3) Renvoyez pour chaque ville, la différence entre la capacité du stade et la moyenne de capacité des stades. "
   ]
  },
  {
   "cell_type": "markdown",
   "metadata": {},
   "source": [
    "### Trier"
   ]
  },
  {
   "cell_type": "markdown",
   "metadata": {},
   "source": [
    "Le tri est une composante clé de l'analyse de donnée. La méthode **sort_index** permet de retourner un nouvel objet, trié. \n",
    "\n",
    "Si nous souhaitons trier un DataFrame suivant l'ordre alphabétique des villes (ici de notre index), il suffit donc d'écrire : "
   ]
  },
  {
   "cell_type": "code",
   "execution_count": null,
   "metadata": {},
   "outputs": [],
   "source": [
    "df1.sort_index(axis=0)"
   ]
  },
  {
   "cell_type": "markdown",
   "metadata": {},
   "source": [
    "On peut, de la même manière trier l'ordre des colonnes, en utilisant l'axe 1 : "
   ]
  },
  {
   "cell_type": "code",
   "execution_count": null,
   "metadata": {},
   "outputs": [],
   "source": [
    "df1.sort_index(axis=1)"
   ]
  },
  {
   "cell_type": "markdown",
   "metadata": {},
   "source": [
    "Vous pouvez, et ce sera le plus fréquent, vouloir trier selon une colonne. Vous pouvez utiliser la méthode **sort_values**"
   ]
  },
  {
   "cell_type": "code",
   "execution_count": null,
   "metadata": {},
   "outputs": [],
   "source": [
    "df1.sort_values('population')"
   ]
  },
  {
   "cell_type": "markdown",
   "metadata": {},
   "source": [
    "On peut spécifier le paramètre booléen **ascending** pour réaliser des tris croissant / décroissant :"
   ]
  },
  {
   "cell_type": "code",
   "execution_count": null,
   "metadata": {},
   "outputs": [],
   "source": [
    "df1.sort_values('population',ascending=False)"
   ]
  },
  {
   "cell_type": "markdown",
   "metadata": {},
   "source": [
    "### Méthodes statistiques "
   ]
  },
  {
   "cell_type": "markdown",
   "metadata": {},
   "source": [
    "Pandas donne accès à un set de méthodes statistiques par défaut. En voici quelques unes : "
   ]
  },
  {
   "cell_type": "markdown",
   "metadata": {},
   "source": [
    "On peut jeter un 'coup d'oeil' à la description statistique d'un set de données en utilisant la méthode **describe**. \n",
    "\n",
    "Celle ci permet de calculer rapidement des données clés (nombre de valeurs, moyenne, déviation standard et quartiles)."
   ]
  },
  {
   "cell_type": "code",
   "execution_count": null,
   "metadata": {},
   "outputs": [],
   "source": [
    "df1.describe()"
   ]
  },
  {
   "cell_type": "markdown",
   "metadata": {},
   "source": [
    "Les méthodes classiques (somme, moyenne, count etc..) sont également intégrées. \n",
    "\n",
    "Elles prennent également comme paramètres les axes d'application des DataFrame\n"
   ]
  },
  {
   "cell_type": "code",
   "execution_count": null,
   "metadata": {},
   "outputs": [],
   "source": [
    "# Calculer la moyenne par colonne \n",
    "\n",
    "df1.count()"
   ]
  },
  {
   "cell_type": "markdown",
   "metadata": {},
   "source": [
    "### Gérer les données manquantes"
   ]
  },
  {
   "cell_type": "code",
   "execution_count": null,
   "metadata": {},
   "outputs": [],
   "source": [
    "from numpy import nan as NA"
   ]
  },
  {
   "cell_type": "markdown",
   "metadata": {},
   "source": [
    "La gestion des données manquantes est une composante clé de Pandas. \n",
    "\n",
    "Les données nulles sont courantes dans les analyses de données, prenons par exemple le DataFrame suivant : "
   ]
  },
  {
   "cell_type": "code",
   "execution_count": null,
   "metadata": {},
   "outputs": [],
   "source": [
    "df_null = pd.DataFrame([[1,3,5,8],[5,NA,7,3],[NA,NA,NA,NA],[NA,7,3,2]])\n",
    "\n",
    "df_null"
   ]
  },
  {
   "cell_type": "markdown",
   "metadata": {},
   "source": [
    "Nous pouvons supprimer toutes les lignes qui comportent au moins un élément NA avec la méthode **dropna**"
   ]
  },
  {
   "cell_type": "code",
   "execution_count": null,
   "metadata": {},
   "outputs": [],
   "source": [
    "df_null.dropna()"
   ]
  },
  {
   "cell_type": "markdown",
   "metadata": {},
   "source": [
    "La méthode **dropna** conservant les paramètres axis, nous pouvons supprimer les colonnes ayant au moins un NA :"
   ]
  },
  {
   "cell_type": "code",
   "execution_count": null,
   "metadata": {},
   "outputs": [],
   "source": [
    "df_null.dropna(axis=1)"
   ]
  },
  {
   "cell_type": "markdown",
   "metadata": {},
   "source": [
    "Ou encore celle qui n'ont que des NA grâce au paramètre **how** :"
   ]
  },
  {
   "cell_type": "code",
   "execution_count": null,
   "metadata": {},
   "outputs": [],
   "source": [
    "df_null.dropna(axis=0, how='all')"
   ]
  },
  {
   "cell_type": "markdown",
   "metadata": {},
   "source": [
    "Au lieu de supprimer des données manquantes, nous pouvons également remplir les cases avec la méthode **fillna** :"
   ]
  },
  {
   "cell_type": "code",
   "execution_count": null,
   "metadata": {},
   "outputs": [],
   "source": [
    "df_null.fillna(0)"
   ]
  },
  {
   "cell_type": "markdown",
   "metadata": {},
   "source": [
    "Il est possible de remplir des valeurs différentes suivant la colonne en passant un **dictionnaire en paramètre** :"
   ]
  },
  {
   "cell_type": "code",
   "execution_count": null,
   "metadata": {},
   "outputs": [],
   "source": [
    "# On remplit ici la colonne 1 avec des 0 et la colonne 2 avec des 3\n",
    "\n",
    "df_null.fillna({1:0, 2:3})"
   ]
  },
  {
   "cell_type": "markdown",
   "metadata": {},
   "source": [
    "Le paramètre booléen **inplace** permet de modifier ou non le DataFrame original. Par défaut **fillna** crée une copie de l'objet :"
   ]
  },
  {
   "cell_type": "code",
   "execution_count": null,
   "metadata": {},
   "outputs": [],
   "source": [
    "df_null.fillna(0,inplace=True)\n",
    "\n",
    "df_null"
   ]
  }
 ],
 "metadata": {
  "kernelspec": {
   "display_name": "Python 3",
   "language": "python",
   "name": "python3"
  },
  "language_info": {
   "codemirror_mode": {
    "name": "ipython",
    "version": 3
   },
   "file_extension": ".py",
   "mimetype": "text/x-python",
   "name": "python",
   "nbconvert_exporter": "python",
   "pygments_lexer": "ipython3",
   "version": "3.6.1"
  }
 },
 "nbformat": 4,
 "nbformat_minor": 1
}
