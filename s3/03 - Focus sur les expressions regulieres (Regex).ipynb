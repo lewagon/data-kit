{
 "cells": [
  {
   "cell_type": "markdown",
   "metadata": {},
   "source": [
    "# Les expressions régulières"
   ]
  },
  {
   "cell_type": "markdown",
   "metadata": {},
   "source": [
    "## Introduction"
   ]
  },
  {
   "cell_type": "markdown",
   "metadata": {},
   "source": [
    "Ce focus va vous permettre de toucher du doigt la notion d'expressions régulières, cependant il serait trop long de tout voir en détail. <br>\n",
    "\n",
    "Pour ceux qui veulent en savoir plus : [Learn Regex The Hard Way](http://regex.learncodethehardway.org/book/)"
   ]
  },
  {
   "cell_type": "markdown",
   "metadata": {},
   "source": [
    "Les expressions régulières sont des patterns que l'on crée afin de soit : <br>\n",
    "- selectionner l'information <br>\n",
    "- diviser l'information <br>\n",
    "- effectuer une validation <br>"
   ]
  },
  {
   "cell_type": "markdown",
   "metadata": {},
   "source": [
    "Afin de tester et de créer son pattern, il est fortement conseiller d'utiliser un testeur d'expressions régulières tel que [RegexR](http://www.regexr.com/)"
   ]
  },
  {
   "cell_type": "markdown",
   "metadata": {},
   "source": [
    "## Regex avec python et exemple"
   ]
  },
  {
   "cell_type": "markdown",
   "metadata": {},
   "source": [
    "Afin de pouvoir utiliser les expressions regulières il faut importer le module ```re``` "
   ]
  },
  {
   "cell_type": "code",
   "execution_count": null,
   "metadata": {},
   "outputs": [],
   "source": [
    "import pandas as pd\n",
    "import re"
   ]
  },
  {
   "cell_type": "markdown",
   "metadata": {},
   "source": [
    "Vous avez un DataFrame composé de noms et d'adresses emails, vous souhaiteriez n'avoir que les adresse emails."
   ]
  },
  {
   "cell_type": "code",
   "execution_count": null,
   "metadata": {},
   "outputs": [],
   "source": [
    "df = pd.DataFrame(['Martin Daniel',\n",
    "                   'martin@gmail.com', \n",
    "                   'Vincent Simon', \n",
    "                   'vincentsimon@laposte.net', \n",
    "                   'Bob', \n",
    "                   'bobby@zimmerman.com'],columns=['noms&mails'])\n",
    "df"
   ]
  },
  {
   "cell_type": "code",
   "execution_count": null,
   "metadata": {},
   "outputs": [],
   "source": [
    "# Ici nous allons définir le pattern de l'expression régulière que nous allons utiliser.\n",
    "pattern = r'[a-z]+@[a-z]+\\.[a-z]{2,4}'"
   ]
  },
  {
   "cell_type": "code",
   "execution_count": null,
   "metadata": {},
   "outputs": [],
   "source": [
    "# re.IGNORECASE permet d'ignorer la casse. La fonction .match() permet de renvoyer un booléen True or False.\n",
    "resultat = df['noms&mails'].str.match(pattern, re.IGNORECASE)\n",
    "print(resultat)"
   ]
  },
  {
   "cell_type": "markdown",
   "metadata": {},
   "source": [
    "## Construire une expression régulière"
   ]
  },
  {
   "cell_type": "markdown",
   "metadata": {},
   "source": [
    "Construisons un DataFrame composé de differents types de données et regardons les différents résultats :"
   ]
  },
  {
   "cell_type": "code",
   "execution_count": null,
   "metadata": {},
   "outputs": [],
   "source": [
    "df2 = pd.DataFrame(['Martin Daniel',\n",
    "                   'martin@gmail.com', \n",
    "                   '1234', \n",
    "                   '0637687898', \n",
    "                   'Bob'],columns=['données'])\n",
    "df2"
   ]
  },
  {
   "cell_type": "markdown",
   "metadata": {},
   "source": [
    "### 1er pattern : (\\w)"
   ]
  },
  {
   "cell_type": "markdown",
   "metadata": {},
   "source": [
    "Notre pattern1 séléctionne tous les caractères sauf les caractères spéciaux."
   ]
  },
  {
   "cell_type": "code",
   "execution_count": null,
   "metadata": {},
   "outputs": [],
   "source": [
    "pattern1 = r'\\w'\n",
    "\n",
    "resultat1 = df2['données'].str.findall(pattern1, re.IGNORECASE)\n",
    "print(resultat1)"
   ]
  },
  {
   "cell_type": "markdown",
   "metadata": {},
   "source": [
    "### 2eme pattern : \\d"
   ]
  },
  {
   "cell_type": "markdown",
   "metadata": {},
   "source": [
    "Notre pattern2 n'a pris en compte que les données numériques."
   ]
  },
  {
   "cell_type": "code",
   "execution_count": null,
   "metadata": {},
   "outputs": [],
   "source": [
    "pattern2 = r'\\d'\n",
    "\n",
    "resultat2 = df2['données'].str.findall(pattern2, re.IGNORECASE)\n",
    "print(resultat2)"
   ]
  },
  {
   "cell_type": "markdown",
   "metadata": {},
   "source": [
    "### 3eme pattern : \\D"
   ]
  },
  {
   "cell_type": "markdown",
   "metadata": {},
   "source": [
    "Notre pattern3 a pris compte toutes les données **n'étant pas** numériques"
   ]
  },
  {
   "cell_type": "code",
   "execution_count": null,
   "metadata": {},
   "outputs": [],
   "source": [
    "pattern3 = r'\\D'\n",
    "\n",
    "resultat3 = df2['données'].str.findall(pattern3, re.IGNORECASE)\n",
    "print(resultat3)"
   ]
  },
  {
   "cell_type": "markdown",
   "metadata": {},
   "source": [
    "### 4eme pattern : 06\\d{8}"
   ]
  },
  {
   "cell_type": "markdown",
   "metadata": {},
   "source": [
    "Notre pattern4 a pris en compte le seul numéro de téléphone portable."
   ]
  },
  {
   "cell_type": "code",
   "execution_count": null,
   "metadata": {},
   "outputs": [],
   "source": [
    "pattern4 = r'06\\d{8}'\n",
    "\n",
    "resultat4 = df2['données'].str.findall(pattern4, re.IGNORECASE)\n",
    "print(resultat4)"
   ]
  },
  {
   "cell_type": "markdown",
   "metadata": {},
   "source": [
    "## Les fonctions"
   ]
  },
  {
   "cell_type": "markdown",
   "metadata": {},
   "source": [
    "Jusqu'ici nous avons utiliser la fonction .findall() qui renvoie la chaine correspondante. <br>\n",
    "Il y a plusieurs autres fonctions très utiles :"
   ]
  },
  {
   "cell_type": "code",
   "execution_count": null,
   "metadata": {},
   "outputs": [],
   "source": [
    "# Reprenons notre DataFrame initial en ajoutant une deuxième adresse à Bobby :\n",
    "df3 = pd.DataFrame(['Martin Daniel',\n",
    "                   'martin@gmail.com', \n",
    "                   'Vincent Simon', \n",
    "                   'vincentsimon@laposte.net', \n",
    "                   'Bob', \n",
    "                   'bobby@zimmerman.com, bobby@zimm.fr'],\n",
    "                   columns=['noms&mails'])\n",
    "df3"
   ]
  },
  {
   "cell_type": "code",
   "execution_count": null,
   "metadata": {},
   "outputs": [],
   "source": [
    "pattern = r'[a-z]+@[a-z]+\\.[a-z]{2,4}'"
   ]
  },
  {
   "cell_type": "markdown",
   "metadata": {},
   "source": [
    "### .count()"
   ]
  },
  {
   "cell_type": "markdown",
   "metadata": {},
   "source": [
    "La méthode .count() compte le nombre d'occurences du pattern."
   ]
  },
  {
   "cell_type": "code",
   "execution_count": null,
   "metadata": {},
   "outputs": [],
   "source": [
    "resultatcount = df3['noms&mails'].str.count(pattern, re.IGNORECASE)\n",
    "print(resultatcount)"
   ]
  },
  {
   "cell_type": "markdown",
   "metadata": {},
   "source": [
    "La méthode .findall() permet d'afficher les résultats liés au pattern. <br>"
   ]
  },
  {
   "cell_type": "code",
   "execution_count": null,
   "metadata": {},
   "outputs": [],
   "source": [
    "resultatfindall = df3['noms&mails'].str.findall(pattern, re.IGNORECASE)\n",
    "print(resultatfindall)"
   ]
  },
  {
   "cell_type": "code",
   "execution_count": null,
   "metadata": {},
   "outputs": [],
   "source": [
    "# Pour afficher ces résultat de façon plus propre, \n",
    "# nous pouvons utliser la methode .str[0] pour avoir la première colonne des résultats\n",
    "resultatfindall.str[0]"
   ]
  },
  {
   "cell_type": "code",
   "execution_count": null,
   "metadata": {},
   "outputs": [],
   "source": [
    "# Pour avoir la deuxième colonne nous jouons sur l'index\n",
    "resultatfindall.str[1]"
   ]
  }
 ],
 "metadata": {
  "kernelspec": {
   "display_name": "Python 3",
   "language": "python",
   "name": "python3"
  },
  "language_info": {
   "codemirror_mode": {
    "name": "ipython",
    "version": 3
   },
   "file_extension": ".py",
   "mimetype": "text/x-python",
   "name": "python",
   "nbconvert_exporter": "python",
   "pygments_lexer": "ipython3",
   "version": "3.6.1"
  }
 },
 "nbformat": 4,
 "nbformat_minor": 1
}
