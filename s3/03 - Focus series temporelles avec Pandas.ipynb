{
 "cells": [
  {
   "cell_type": "markdown",
   "metadata": {},
   "source": [
    "# Séries temporelles avec Pandas"
   ]
  },
  {
   "cell_type": "markdown",
   "metadata": {},
   "source": [
    "L'analyse temporelle est une partie essentielle de l'analyse de données. \n",
    "\n",
    "Dans cette partie vous verrez : \n",
    "\n",
    "- L'objet Datetime\n",
    "- Quelles sont les fonctions de traitement de dates sous Pandas\n",
    "- Les fonctions d'aggrégation temporelles\n",
    "\n",
    "Pandas dispose de plusieurs méthode pour gérer et manipuler des données temporelles :"
   ]
  },
  {
   "cell_type": "markdown",
   "metadata": {},
   "source": [
    "## Datetime (Python)"
   ]
  },
  {
   "cell_type": "markdown",
   "metadata": {},
   "source": [
    "Le module **Datetime** en Python permet de réaliser plusieurs opérations avec des dates : "
   ]
  },
  {
   "cell_type": "code",
   "execution_count": 1,
   "metadata": {},
   "outputs": [],
   "source": [
    "from datetime import datetime\n",
    "\n",
    "now = datetime.now()"
   ]
  },
  {
   "cell_type": "markdown",
   "metadata": {},
   "source": [
    "l'objet **Datetime** stocke la date et l'heure jusqu'à la microsecond, jugez plutôt : "
   ]
  },
  {
   "cell_type": "code",
   "execution_count": 2,
   "metadata": {},
   "outputs": [
    {
     "data": {
      "text/plain": [
       "datetime.datetime(2019, 5, 3, 17, 14, 4, 708259)"
      ]
     },
     "execution_count": 2,
     "metadata": {},
     "output_type": "execute_result"
    }
   ],
   "source": [
    "now "
   ]
  },
  {
   "cell_type": "markdown",
   "metadata": {},
   "source": [
    "Nous pouvons accéder à différentes à l'année, le mois, le jour etc.. "
   ]
  },
  {
   "cell_type": "code",
   "execution_count": 3,
   "metadata": {},
   "outputs": [
    {
     "name": "stdout",
     "output_type": "stream",
     "text": [
      "2019\n",
      "5\n",
      "3\n"
     ]
    }
   ],
   "source": [
    "print(now.year)\n",
    "print(now.month)\n",
    "print(now.day)"
   ]
  },
  {
   "cell_type": "markdown",
   "metadata": {},
   "source": [
    "## String --> datetime"
   ]
  },
  {
   "cell_type": "markdown",
   "metadata": {},
   "source": [
    "Bien entendu, les données temporelles sont rarement stockées au format dates. Elles sont souvent stockées et parsées sous forme de texte\n",
    "\n",
    "La méthode **strptime** du module **datetime** de Python permet de transformer un String en datetime en y intégrant un **format de date**"
   ]
  },
  {
   "cell_type": "code",
   "execution_count": 4,
   "metadata": {},
   "outputs": [],
   "source": [
    "chaine = '2013-02-13'"
   ]
  },
  {
   "cell_type": "code",
   "execution_count": 5,
   "metadata": {},
   "outputs": [
    {
     "data": {
      "text/plain": [
       "datetime.datetime(2013, 2, 13, 0, 0)"
      ]
     },
     "execution_count": 5,
     "metadata": {},
     "output_type": "execute_result"
    }
   ],
   "source": [
    "datetime.strptime(chaine,'%Y-%m-%d')"
   ]
  },
  {
   "cell_type": "markdown",
   "metadata": {},
   "source": [
    "On peut retrouver l'intégralité des formats de date ici - https://docs.python.org/2/library/datetime.html#strftime-and-strptime-behavior"
   ]
  },
  {
   "cell_type": "code",
   "execution_count": 6,
   "metadata": {},
   "outputs": [],
   "source": [
    "import pandas as pd\n",
    "import numpy as np"
   ]
  },
  {
   "cell_type": "markdown",
   "metadata": {},
   "source": [
    "Pandas permet de parse facilement les données d'une Série grâce à la méthode **to_datetime** :"
   ]
  },
  {
   "cell_type": "code",
   "execution_count": 7,
   "metadata": {},
   "outputs": [],
   "source": [
    "datestring = ['2013-04-03', '2013-04-04', '2013-04-05', '2013-04-06']"
   ]
  },
  {
   "cell_type": "code",
   "execution_count": 8,
   "metadata": {},
   "outputs": [
    {
     "data": {
      "text/plain": [
       "DatetimeIndex(['2013-04-03', '2013-04-04', '2013-04-05', '2013-04-06'], dtype='datetime64[ns]', freq=None)"
      ]
     },
     "execution_count": 8,
     "metadata": {},
     "output_type": "execute_result"
    }
   ],
   "source": [
    "pd.to_datetime(datestring)"
   ]
  },
  {
   "cell_type": "markdown",
   "metadata": {},
   "source": [
    "Remarquons que la **liste** datestring a été transformée en objet Pandas **tseries.index.DatetimeIndex** \n",
    "\n",
    "Plusieurs options (qui dépasse ce focus) sont également à noter : la longueur de la série, la fréquence, la timezone etc.."
   ]
  },
  {
   "cell_type": "markdown",
   "metadata": {},
   "source": [
    "## Time et DataFrame "
   ]
  },
  {
   "cell_type": "markdown",
   "metadata": {},
   "source": [
    "Lorsque vous disposez d'un set de données contenant des données temporelles, il advient de bien indexer en utilisant l'objet  **DatetimeIndex**. \n",
    "\n",
    "Prenons par exemple une nouvelle liste de dates (format chaine) : "
   ]
  },
  {
   "cell_type": "code",
   "execution_count": 9,
   "metadata": {},
   "outputs": [],
   "source": [
    "datestr = ['2013-04-03', '2013-04-04', '2013-04-05', '2013-05-06','2014-06-07','2014-07-08']"
   ]
  },
  {
   "cell_type": "markdown",
   "metadata": {},
   "source": [
    "Nous transformons cette liste de String en un objet DatetimeIndex en utilisant la méthode **to_datetime** :"
   ]
  },
  {
   "cell_type": "code",
   "execution_count": 10,
   "metadata": {},
   "outputs": [],
   "source": [
    "dates = pd.to_datetime(datestr)"
   ]
  },
  {
   "cell_type": "markdown",
   "metadata": {},
   "source": [
    "Si nous souhaitons maintenant créer un DataFrame, nous pouvons spécifier, au moment de la création, l'index à utiliser grâce au paramètre **index** :"
   ]
  },
  {
   "cell_type": "code",
   "execution_count": 11,
   "metadata": {},
   "outputs": [],
   "source": [
    "df = pd.DataFrame(np.random.randn(6,2),\n",
    "                  index = dates,\n",
    "                  columns = ['col1','col2'])"
   ]
  },
  {
   "cell_type": "code",
   "execution_count": 12,
   "metadata": {},
   "outputs": [
    {
     "data": {
      "text/html": [
       "<div>\n",
       "<style scoped>\n",
       "    .dataframe tbody tr th:only-of-type {\n",
       "        vertical-align: middle;\n",
       "    }\n",
       "\n",
       "    .dataframe tbody tr th {\n",
       "        vertical-align: top;\n",
       "    }\n",
       "\n",
       "    .dataframe thead th {\n",
       "        text-align: right;\n",
       "    }\n",
       "</style>\n",
       "<table border=\"1\" class=\"dataframe\">\n",
       "  <thead>\n",
       "    <tr style=\"text-align: right;\">\n",
       "      <th></th>\n",
       "      <th>col1</th>\n",
       "      <th>col2</th>\n",
       "    </tr>\n",
       "  </thead>\n",
       "  <tbody>\n",
       "    <tr>\n",
       "      <th>2013-04-03</th>\n",
       "      <td>-1.343999</td>\n",
       "      <td>-0.004779</td>\n",
       "    </tr>\n",
       "    <tr>\n",
       "      <th>2013-04-04</th>\n",
       "      <td>0.327237</td>\n",
       "      <td>1.000392</td>\n",
       "    </tr>\n",
       "    <tr>\n",
       "      <th>2013-04-05</th>\n",
       "      <td>0.363211</td>\n",
       "      <td>-0.532368</td>\n",
       "    </tr>\n",
       "    <tr>\n",
       "      <th>2013-05-06</th>\n",
       "      <td>-0.583050</td>\n",
       "      <td>0.203375</td>\n",
       "    </tr>\n",
       "    <tr>\n",
       "      <th>2014-06-07</th>\n",
       "      <td>0.357102</td>\n",
       "      <td>0.789918</td>\n",
       "    </tr>\n",
       "    <tr>\n",
       "      <th>2014-07-08</th>\n",
       "      <td>0.279778</td>\n",
       "      <td>1.430195</td>\n",
       "    </tr>\n",
       "  </tbody>\n",
       "</table>\n",
       "</div>"
      ],
      "text/plain": [
       "                col1      col2\n",
       "2013-04-03 -1.343999 -0.004779\n",
       "2013-04-04  0.327237  1.000392\n",
       "2013-04-05  0.363211 -0.532368\n",
       "2013-05-06 -0.583050  0.203375\n",
       "2014-06-07  0.357102  0.789918\n",
       "2014-07-08  0.279778  1.430195"
      ]
     },
     "execution_count": 12,
     "metadata": {},
     "output_type": "execute_result"
    }
   ],
   "source": [
    "df"
   ]
  },
  {
   "cell_type": "markdown",
   "metadata": {},
   "source": [
    "La plupart des DataFrame que vous utiliserez seront lus au sein de fichier extérieurs (e.g : csv) \n",
    "\n",
    "La méthode **read_csv** de Pandas a différentes options : \n",
    "\n",
    "- **index_col** permet de préciser la colonne à prendre comme Index\n",
    "- **parse_dates** est un booléen permettant de parser les chaines en dates automatiquement\n",
    "\n",
    "Prenons l'exemple suivant : "
   ]
  },
  {
   "cell_type": "code",
   "execution_count": 13,
   "metadata": {},
   "outputs": [],
   "source": [
    "stock = pd.read_csv(\"data/stock_px.csv\")"
   ]
  },
  {
   "cell_type": "markdown",
   "metadata": {},
   "source": [
    "L'index de stock dans ce cas là est une liste d'Integer :"
   ]
  },
  {
   "cell_type": "code",
   "execution_count": 14,
   "metadata": {},
   "outputs": [
    {
     "data": {
      "text/html": [
       "<div>\n",
       "<style scoped>\n",
       "    .dataframe tbody tr th:only-of-type {\n",
       "        vertical-align: middle;\n",
       "    }\n",
       "\n",
       "    .dataframe tbody tr th {\n",
       "        vertical-align: top;\n",
       "    }\n",
       "\n",
       "    .dataframe thead th {\n",
       "        text-align: right;\n",
       "    }\n",
       "</style>\n",
       "<table border=\"1\" class=\"dataframe\">\n",
       "  <thead>\n",
       "    <tr style=\"text-align: right;\">\n",
       "      <th></th>\n",
       "      <th>date</th>\n",
       "      <th>AAPL</th>\n",
       "      <th>MSFT</th>\n",
       "      <th>XOM</th>\n",
       "      <th>SPX</th>\n",
       "    </tr>\n",
       "  </thead>\n",
       "  <tbody>\n",
       "    <tr>\n",
       "      <th>0</th>\n",
       "      <td>2003-01-02 00:00:00</td>\n",
       "      <td>7.40</td>\n",
       "      <td>21.11</td>\n",
       "      <td>29.22</td>\n",
       "      <td>909.03</td>\n",
       "    </tr>\n",
       "    <tr>\n",
       "      <th>1</th>\n",
       "      <td>2003-01-03 00:00:00</td>\n",
       "      <td>7.45</td>\n",
       "      <td>21.14</td>\n",
       "      <td>29.24</td>\n",
       "      <td>908.59</td>\n",
       "    </tr>\n",
       "    <tr>\n",
       "      <th>2</th>\n",
       "      <td>2003-01-06 00:00:00</td>\n",
       "      <td>7.45</td>\n",
       "      <td>21.52</td>\n",
       "      <td>29.96</td>\n",
       "      <td>929.01</td>\n",
       "    </tr>\n",
       "    <tr>\n",
       "      <th>3</th>\n",
       "      <td>2003-01-07 00:00:00</td>\n",
       "      <td>7.43</td>\n",
       "      <td>21.93</td>\n",
       "      <td>28.95</td>\n",
       "      <td>922.93</td>\n",
       "    </tr>\n",
       "    <tr>\n",
       "      <th>4</th>\n",
       "      <td>2003-01-08 00:00:00</td>\n",
       "      <td>7.28</td>\n",
       "      <td>21.31</td>\n",
       "      <td>28.83</td>\n",
       "      <td>909.93</td>\n",
       "    </tr>\n",
       "  </tbody>\n",
       "</table>\n",
       "</div>"
      ],
      "text/plain": [
       "                  date  AAPL   MSFT    XOM     SPX\n",
       "0  2003-01-02 00:00:00  7.40  21.11  29.22  909.03\n",
       "1  2003-01-03 00:00:00  7.45  21.14  29.24  908.59\n",
       "2  2003-01-06 00:00:00  7.45  21.52  29.96  929.01\n",
       "3  2003-01-07 00:00:00  7.43  21.93  28.95  922.93\n",
       "4  2003-01-08 00:00:00  7.28  21.31  28.83  909.93"
      ]
     },
     "execution_count": 14,
     "metadata": {},
     "output_type": "execute_result"
    }
   ],
   "source": [
    "stock.head()"
   ]
  },
  {
   "cell_type": "markdown",
   "metadata": {},
   "source": [
    "En spécifiant l'index à utiliser et en activant l'option de parsing de dates, nous obtenons : "
   ]
  },
  {
   "cell_type": "code",
   "execution_count": 15,
   "metadata": {},
   "outputs": [],
   "source": [
    "stock = pd.read_csv(\"data/stock_px.csv\", parse_dates=True, index_col=0)"
   ]
  },
  {
   "cell_type": "code",
   "execution_count": 16,
   "metadata": {},
   "outputs": [
    {
     "data": {
      "text/plain": [
       "DatetimeIndex(['2003-01-02', '2003-01-03', '2003-01-06', '2003-01-07',\n",
       "               '2003-01-08', '2003-01-09', '2003-01-10', '2003-01-13',\n",
       "               '2003-01-14', '2003-01-15',\n",
       "               ...\n",
       "               '2011-10-03', '2011-10-04', '2011-10-05', '2011-10-06',\n",
       "               '2011-10-07', '2011-10-10', '2011-10-11', '2011-10-12',\n",
       "               '2011-10-13', '2011-10-14'],\n",
       "              dtype='datetime64[ns]', name='date', length=2214, freq=None)"
      ]
     },
     "execution_count": 16,
     "metadata": {},
     "output_type": "execute_result"
    }
   ],
   "source": [
    "stock.index"
   ]
  },
  {
   "cell_type": "markdown",
   "metadata": {},
   "source": [
    "Dans le cas où il n'est pas possible de fixer un Index à la lecture d'un fichier, nous pourrons utiliser la méthode **set_index** pour fixer l'index d'un DataFrame après sa création"
   ]
  },
  {
   "cell_type": "markdown",
   "metadata": {},
   "source": [
    "Lorsqu'un DataFrame a été correctement créé, Pandas offre de nombreuses méthodes pour sélectionner ou filtrer des données. \n",
    "\n",
    "Nous pouvons sélectionner par exemple uniquement les données de stock de l'année 2005 avec la clé '2005' :"
   ]
  },
  {
   "cell_type": "code",
   "execution_count": 17,
   "metadata": {},
   "outputs": [
    {
     "data": {
      "text/html": [
       "<div>\n",
       "<style scoped>\n",
       "    .dataframe tbody tr th:only-of-type {\n",
       "        vertical-align: middle;\n",
       "    }\n",
       "\n",
       "    .dataframe tbody tr th {\n",
       "        vertical-align: top;\n",
       "    }\n",
       "\n",
       "    .dataframe thead th {\n",
       "        text-align: right;\n",
       "    }\n",
       "</style>\n",
       "<table border=\"1\" class=\"dataframe\">\n",
       "  <thead>\n",
       "    <tr style=\"text-align: right;\">\n",
       "      <th></th>\n",
       "      <th>AAPL</th>\n",
       "      <th>MSFT</th>\n",
       "      <th>XOM</th>\n",
       "      <th>SPX</th>\n",
       "    </tr>\n",
       "    <tr>\n",
       "      <th>date</th>\n",
       "      <th></th>\n",
       "      <th></th>\n",
       "      <th></th>\n",
       "      <th></th>\n",
       "    </tr>\n",
       "  </thead>\n",
       "  <tbody>\n",
       "    <tr>\n",
       "      <th>2005-01-03</th>\n",
       "      <td>31.65</td>\n",
       "      <td>23.70</td>\n",
       "      <td>43.45</td>\n",
       "      <td>1202.08</td>\n",
       "    </tr>\n",
       "    <tr>\n",
       "      <th>2005-01-04</th>\n",
       "      <td>31.97</td>\n",
       "      <td>23.79</td>\n",
       "      <td>43.15</td>\n",
       "      <td>1188.05</td>\n",
       "    </tr>\n",
       "    <tr>\n",
       "      <th>2005-01-05</th>\n",
       "      <td>32.25</td>\n",
       "      <td>23.73</td>\n",
       "      <td>42.93</td>\n",
       "      <td>1183.74</td>\n",
       "    </tr>\n",
       "    <tr>\n",
       "      <th>2005-01-06</th>\n",
       "      <td>32.28</td>\n",
       "      <td>23.71</td>\n",
       "      <td>43.47</td>\n",
       "      <td>1187.89</td>\n",
       "    </tr>\n",
       "    <tr>\n",
       "      <th>2005-01-07</th>\n",
       "      <td>34.62</td>\n",
       "      <td>23.64</td>\n",
       "      <td>43.19</td>\n",
       "      <td>1186.19</td>\n",
       "    </tr>\n",
       "  </tbody>\n",
       "</table>\n",
       "</div>"
      ],
      "text/plain": [
       "             AAPL   MSFT    XOM      SPX\n",
       "date                                    \n",
       "2005-01-03  31.65  23.70  43.45  1202.08\n",
       "2005-01-04  31.97  23.79  43.15  1188.05\n",
       "2005-01-05  32.25  23.73  42.93  1183.74\n",
       "2005-01-06  32.28  23.71  43.47  1187.89\n",
       "2005-01-07  34.62  23.64  43.19  1186.19"
      ]
     },
     "execution_count": 17,
     "metadata": {},
     "output_type": "execute_result"
    }
   ],
   "source": [
    "stock['2005'].head()"
   ]
  },
  {
   "cell_type": "markdown",
   "metadata": {},
   "source": [
    "On peut de la même manière séléctionner un mois, ou une période :"
   ]
  },
  {
   "cell_type": "code",
   "execution_count": 18,
   "metadata": {},
   "outputs": [
    {
     "data": {
      "text/html": [
       "<div>\n",
       "<style scoped>\n",
       "    .dataframe tbody tr th:only-of-type {\n",
       "        vertical-align: middle;\n",
       "    }\n",
       "\n",
       "    .dataframe tbody tr th {\n",
       "        vertical-align: top;\n",
       "    }\n",
       "\n",
       "    .dataframe thead th {\n",
       "        text-align: right;\n",
       "    }\n",
       "</style>\n",
       "<table border=\"1\" class=\"dataframe\">\n",
       "  <thead>\n",
       "    <tr style=\"text-align: right;\">\n",
       "      <th></th>\n",
       "      <th>AAPL</th>\n",
       "      <th>MSFT</th>\n",
       "      <th>XOM</th>\n",
       "      <th>SPX</th>\n",
       "    </tr>\n",
       "    <tr>\n",
       "      <th>date</th>\n",
       "      <th></th>\n",
       "      <th></th>\n",
       "      <th></th>\n",
       "      <th></th>\n",
       "    </tr>\n",
       "  </thead>\n",
       "  <tbody>\n",
       "    <tr>\n",
       "      <th>2005-03-01</th>\n",
       "      <td>44.50</td>\n",
       "      <td>22.47</td>\n",
       "      <td>54.13</td>\n",
       "      <td>1210.41</td>\n",
       "    </tr>\n",
       "    <tr>\n",
       "      <th>2005-03-02</th>\n",
       "      <td>44.12</td>\n",
       "      <td>22.45</td>\n",
       "      <td>54.63</td>\n",
       "      <td>1210.08</td>\n",
       "    </tr>\n",
       "    <tr>\n",
       "      <th>2005-03-03</th>\n",
       "      <td>41.79</td>\n",
       "      <td>22.37</td>\n",
       "      <td>54.96</td>\n",
       "      <td>1210.47</td>\n",
       "    </tr>\n",
       "    <tr>\n",
       "      <th>2005-03-04</th>\n",
       "      <td>42.81</td>\n",
       "      <td>22.37</td>\n",
       "      <td>55.41</td>\n",
       "      <td>1222.12</td>\n",
       "    </tr>\n",
       "    <tr>\n",
       "      <th>2005-03-07</th>\n",
       "      <td>42.75</td>\n",
       "      <td>22.64</td>\n",
       "      <td>54.91</td>\n",
       "      <td>1225.31</td>\n",
       "    </tr>\n",
       "  </tbody>\n",
       "</table>\n",
       "</div>"
      ],
      "text/plain": [
       "             AAPL   MSFT    XOM      SPX\n",
       "date                                    \n",
       "2005-03-01  44.50  22.47  54.13  1210.41\n",
       "2005-03-02  44.12  22.45  54.63  1210.08\n",
       "2005-03-03  41.79  22.37  54.96  1210.47\n",
       "2005-03-04  42.81  22.37  55.41  1222.12\n",
       "2005-03-07  42.75  22.64  54.91  1225.31"
      ]
     },
     "execution_count": 18,
     "metadata": {},
     "output_type": "execute_result"
    }
   ],
   "source": [
    "stock['2005-03'].head()"
   ]
  },
  {
   "cell_type": "code",
   "execution_count": 19,
   "metadata": {},
   "outputs": [
    {
     "data": {
      "text/html": [
       "<div>\n",
       "<style scoped>\n",
       "    .dataframe tbody tr th:only-of-type {\n",
       "        vertical-align: middle;\n",
       "    }\n",
       "\n",
       "    .dataframe tbody tr th {\n",
       "        vertical-align: top;\n",
       "    }\n",
       "\n",
       "    .dataframe thead th {\n",
       "        text-align: right;\n",
       "    }\n",
       "</style>\n",
       "<table border=\"1\" class=\"dataframe\">\n",
       "  <thead>\n",
       "    <tr style=\"text-align: right;\">\n",
       "      <th></th>\n",
       "      <th>AAPL</th>\n",
       "      <th>MSFT</th>\n",
       "      <th>XOM</th>\n",
       "      <th>SPX</th>\n",
       "    </tr>\n",
       "    <tr>\n",
       "      <th>date</th>\n",
       "      <th></th>\n",
       "      <th></th>\n",
       "      <th></th>\n",
       "      <th></th>\n",
       "    </tr>\n",
       "  </thead>\n",
       "  <tbody>\n",
       "    <tr>\n",
       "      <th>2005-03-01</th>\n",
       "      <td>44.50</td>\n",
       "      <td>22.47</td>\n",
       "      <td>54.13</td>\n",
       "      <td>1210.41</td>\n",
       "    </tr>\n",
       "    <tr>\n",
       "      <th>2005-03-02</th>\n",
       "      <td>44.12</td>\n",
       "      <td>22.45</td>\n",
       "      <td>54.63</td>\n",
       "      <td>1210.08</td>\n",
       "    </tr>\n",
       "    <tr>\n",
       "      <th>2005-03-03</th>\n",
       "      <td>41.79</td>\n",
       "      <td>22.37</td>\n",
       "      <td>54.96</td>\n",
       "      <td>1210.47</td>\n",
       "    </tr>\n",
       "    <tr>\n",
       "      <th>2005-03-04</th>\n",
       "      <td>42.81</td>\n",
       "      <td>22.37</td>\n",
       "      <td>55.41</td>\n",
       "      <td>1222.12</td>\n",
       "    </tr>\n",
       "    <tr>\n",
       "      <th>2005-03-07</th>\n",
       "      <td>42.75</td>\n",
       "      <td>22.64</td>\n",
       "      <td>54.91</td>\n",
       "      <td>1225.31</td>\n",
       "    </tr>\n",
       "  </tbody>\n",
       "</table>\n",
       "</div>"
      ],
      "text/plain": [
       "             AAPL   MSFT    XOM      SPX\n",
       "date                                    \n",
       "2005-03-01  44.50  22.47  54.13  1210.41\n",
       "2005-03-02  44.12  22.45  54.63  1210.08\n",
       "2005-03-03  41.79  22.37  54.96  1210.47\n",
       "2005-03-04  42.81  22.37  55.41  1222.12\n",
       "2005-03-07  42.75  22.64  54.91  1225.31"
      ]
     },
     "execution_count": 19,
     "metadata": {},
     "output_type": "execute_result"
    }
   ],
   "source": [
    "stock['2005-03':'2005-04'].head()"
   ]
  },
  {
   "cell_type": "markdown",
   "metadata": {},
   "source": [
    "## Resampling"
   ]
  },
  {
   "cell_type": "markdown",
   "metadata": {},
   "source": [
    "Le **resampling** est l'art d'aggréger ou de désagréger des données temporelles. \n",
    "\n",
    "On peut vouloir par exemple aggréger les données du DataFrame stock en calculat la moyenne par année. \n",
    "\n",
    "On utilisera pour cela la méthode **resample** en spécifiant  **la fréquence** et la **fonction d'aggrégation**.\n",
    "\n",
    "Un détail des valeurs possibles pour chacun de ces paramètres est disponible ici - http://pandas.pydata.org/pandas-docs/dev/timeseries.html#offset-aliases"
   ]
  },
  {
   "cell_type": "code",
   "execution_count": 20,
   "metadata": {},
   "outputs": [
    {
     "data": {
      "text/html": [
       "<div>\n",
       "<style scoped>\n",
       "    .dataframe tbody tr th:only-of-type {\n",
       "        vertical-align: middle;\n",
       "    }\n",
       "\n",
       "    .dataframe tbody tr th {\n",
       "        vertical-align: top;\n",
       "    }\n",
       "\n",
       "    .dataframe thead th {\n",
       "        text-align: right;\n",
       "    }\n",
       "</style>\n",
       "<table border=\"1\" class=\"dataframe\">\n",
       "  <thead>\n",
       "    <tr style=\"text-align: right;\">\n",
       "      <th></th>\n",
       "      <th>AAPL</th>\n",
       "      <th>MSFT</th>\n",
       "      <th>XOM</th>\n",
       "      <th>SPX</th>\n",
       "    </tr>\n",
       "    <tr>\n",
       "      <th>date</th>\n",
       "      <th></th>\n",
       "      <th></th>\n",
       "      <th></th>\n",
       "      <th></th>\n",
       "    </tr>\n",
       "  </thead>\n",
       "  <tbody>\n",
       "    <tr>\n",
       "      <th>2003-01-01</th>\n",
       "      <td>9.272619</td>\n",
       "      <td>20.595119</td>\n",
       "      <td>30.211111</td>\n",
       "      <td>965.227540</td>\n",
       "    </tr>\n",
       "    <tr>\n",
       "      <th>2004-01-01</th>\n",
       "      <td>17.763889</td>\n",
       "      <td>21.850437</td>\n",
       "      <td>38.875437</td>\n",
       "      <td>1130.649444</td>\n",
       "    </tr>\n",
       "    <tr>\n",
       "      <th>2005-01-01</th>\n",
       "      <td>46.675952</td>\n",
       "      <td>23.072421</td>\n",
       "      <td>51.045476</td>\n",
       "      <td>1207.229444</td>\n",
       "    </tr>\n",
       "    <tr>\n",
       "      <th>2006-01-01</th>\n",
       "      <td>70.810637</td>\n",
       "      <td>23.759363</td>\n",
       "      <td>58.458406</td>\n",
       "      <td>1310.461633</td>\n",
       "    </tr>\n",
       "    <tr>\n",
       "      <th>2007-01-01</th>\n",
       "      <td>128.273904</td>\n",
       "      <td>27.904422</td>\n",
       "      <td>75.767131</td>\n",
       "      <td>1477.184343</td>\n",
       "    </tr>\n",
       "    <tr>\n",
       "      <th>2008-01-01</th>\n",
       "      <td>141.979012</td>\n",
       "      <td>24.760593</td>\n",
       "      <td>76.525968</td>\n",
       "      <td>1220.042055</td>\n",
       "    </tr>\n",
       "    <tr>\n",
       "      <th>2009-01-01</th>\n",
       "      <td>146.814127</td>\n",
       "      <td>21.885397</td>\n",
       "      <td>67.124960</td>\n",
       "      <td>948.046389</td>\n",
       "    </tr>\n",
       "    <tr>\n",
       "      <th>2010-01-01</th>\n",
       "      <td>259.842460</td>\n",
       "      <td>26.262619</td>\n",
       "      <td>63.067976</td>\n",
       "      <td>1139.965516</td>\n",
       "    </tr>\n",
       "    <tr>\n",
       "      <th>2011-01-01</th>\n",
       "      <td>356.526834</td>\n",
       "      <td>25.825930</td>\n",
       "      <td>79.042663</td>\n",
       "      <td>1276.093015</td>\n",
       "    </tr>\n",
       "  </tbody>\n",
       "</table>\n",
       "</div>"
      ],
      "text/plain": [
       "                  AAPL       MSFT        XOM          SPX\n",
       "date                                                     \n",
       "2003-01-01    9.272619  20.595119  30.211111   965.227540\n",
       "2004-01-01   17.763889  21.850437  38.875437  1130.649444\n",
       "2005-01-01   46.675952  23.072421  51.045476  1207.229444\n",
       "2006-01-01   70.810637  23.759363  58.458406  1310.461633\n",
       "2007-01-01  128.273904  27.904422  75.767131  1477.184343\n",
       "2008-01-01  141.979012  24.760593  76.525968  1220.042055\n",
       "2009-01-01  146.814127  21.885397  67.124960   948.046389\n",
       "2010-01-01  259.842460  26.262619  63.067976  1139.965516\n",
       "2011-01-01  356.526834  25.825930  79.042663  1276.093015"
      ]
     },
     "execution_count": 20,
     "metadata": {},
     "output_type": "execute_result"
    }
   ],
   "source": [
    "stock.resample('AS').mean()"
   ]
  },
  {
   "cell_type": "markdown",
   "metadata": {},
   "source": [
    "## Plotting"
   ]
  },
  {
   "cell_type": "markdown",
   "metadata": {},
   "source": [
    "La visualisation de données appliquée à des time series permet d'apprécier rapidement une tendance. \n",
    "\n",
    "Pandas permet de créer rapidement une visualisation avec la méthode **plot**"
   ]
  },
  {
   "cell_type": "code",
   "execution_count": 21,
   "metadata": {},
   "outputs": [],
   "source": [
    "# permet d'afficher les graphes au sein de la page\n",
    "\n",
    "import matplotlib.pyplot as plt\n",
    "%matplotlib inline"
   ]
  },
  {
   "cell_type": "code",
   "execution_count": 22,
   "metadata": {},
   "outputs": [
    {
     "data": {
      "text/plain": [
       "<matplotlib.axes._subplots.AxesSubplot at 0x11672ea58>"
      ]
     },
     "execution_count": 22,
     "metadata": {},
     "output_type": "execute_result"
    },
    {
     "data": {
      "image/png": "[encoded data removed]",
      "text/plain": [
       "<Figure size 432x288 with 1 Axes>"
      ]
     },
     "metadata": {
      "needs_background": "light"
     },
     "output_type": "display_data"
    }
   ],
   "source": [
    "stock.plot()"
   ]
  },
  {
   "cell_type": "code",
   "execution_count": 23,
   "metadata": {},
   "outputs": [
    {
     "data": {
      "text/plain": [
       "<matplotlib.axes._subplots.AxesSubplot at 0x118994320>"
      ]
     },
     "execution_count": 23,
     "metadata": {},
     "output_type": "execute_result"
    },
    {
     "data": {
      "image/png": "[encoded data removed]",
      "text/plain": [
       "<Figure size 432x288 with 1 Axes>"
      ]
     },
     "metadata": {
      "needs_background": "light"
     },
     "output_type": "display_data"
    }
   ],
   "source": [
    "stock.resample('M').mean().plot()"
   ]
  }
 ],
 "metadata": {
  "kernelspec": {
   "display_name": "Python 3",
   "language": "python",
   "name": "python3"
  },
  "language_info": {
   "codemirror_mode": {
    "name": "ipython",
    "version": 3
   },
   "file_extension": ".py",
   "mimetype": "text/x-python",
   "name": "python",
   "nbconvert_exporter": "python",
   "pygments_lexer": "ipython3",
   "version": "3.6.1"
  }
 },
 "nbformat": 4,
 "nbformat_minor": 1
}
