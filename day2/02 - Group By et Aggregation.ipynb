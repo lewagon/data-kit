{
 "metadata": {
  "name": ""
 },
 "nbformat": 3,
 "nbformat_minor": 0,
 "worksheets": [
  {
   "cells": [
    {
     "cell_type": "heading",
     "level": 1,
     "metadata": {},
     "source": [
      "Group by et Aggr\u00e9gation "
     ]
    },
    {
     "cell_type": "markdown",
     "metadata": {},
     "source": [
      "Grouper un set de donn\u00e9es suivant une ou plusieurs dimensions et appliquer une r\u00e9duction est une composante cl\u00e9 de toute analyse. \n",
      "\n",
      "Le langage SQL ainsi que les tableaux crois\u00e9s dynamiques offrent de premi\u00e8res fonctions de Grouping. \n",
      "\n",
      "Dans ce chapitre nous verrons comment Pandas permet de r\u00e9aliser de s\u00e9parer un set de donn\u00e9es suivant une ou plusieurs cl\u00e9s et appliqu\u00e9 des r\u00e9ductions ou transformations sur chacun de ces groupes. "
     ]
    },
    {
     "cell_type": "heading",
     "level": 2,
     "metadata": {},
     "source": [
      "Group By"
     ]
    },
    {
     "cell_type": "code",
     "collapsed": false,
     "input": [
      "import pandas as pd"
     ],
     "language": "python",
     "metadata": {},
     "outputs": [],
     "prompt_number": 60
    },
    {
     "cell_type": "markdown",
     "metadata": {},
     "source": [
      "La m\u00e9canique du group by peut \u00eatre r\u00e9sum\u00e9 suivant le sch\u00e9ma ci-dessous : \n",
      "    \n",
      "   - **Split** : un set de donn\u00e9es est s\u00e9par\u00e9 suivant des cl\u00e9s\n",
      "   - **Apply** : une fonction est appliqu\u00e9e sur chacun de ces groupes \n",
      "   - **Combine** : les r\u00e9sultats sont ensuite regroup\u00e9s au sein d'un seul objet "
     ]
    },
    {
     "cell_type": "markdown",
     "metadata": {},
     "source": [
      "<img src='files/images/groupby.png' width=500>\n",
      "\n",
      "> <cite>Source: Python for Data Analysis</cite>"
     ]
    },
    {
     "cell_type": "markdown",
     "metadata": {},
     "source": [
      "Nous allons utiliser dans cet exemple le set de donn\u00e9es ***reserve_parlementaire.csv*** (Il s'agit de la liste des r\u00e9serves parlementaries mises en ligne en 2011). \n",
      "\n",
      "Importons ce fichier et inspectons le : "
     ]
    },
    {
     "cell_type": "code",
     "collapsed": false,
     "input": [
      "reserve = pd.read_csv(\"data/reserve.csv\")\n",
      "reserve.head(3)"
     ],
     "language": "python",
     "metadata": {},
     "outputs": [
      {
       "html": [
        "<div style=\"max-height:1000px;max-width:1500px;overflow:auto;\">\n",
        "<table border=\"1\" class=\"dataframe\">\n",
        "  <thead>\n",
        "    <tr style=\"text-align: right;\">\n",
        "      <th></th>\n",
        "      <th>Identifiant</th>\n",
        "      <th>B\u00e9n\u00e9ficiaire</th>\n",
        "      <th>D\u00e9partement</th>\n",
        "      <th>Nature du projet</th>\n",
        "      <th>Co\u00fbt du projet</th>\n",
        "      <th>Subvention allou\u00e9e</th>\n",
        "      <th>Parlementaire transmetteur</th>\n",
        "      <th>Nature</th>\n",
        "      <th>D\u00e9partement Parlementaire</th>\n",
        "      <th>Groupe politique du parlementaire</th>\n",
        "    </tr>\n",
        "  </thead>\n",
        "  <tbody>\n",
        "    <tr>\n",
        "      <th>0</th>\n",
        "      <td> 2011/1</td>\n",
        "      <td>         ABBANS-DESSOUS</td>\n",
        "      <td> DOUBS</td>\n",
        "      <td> l'am\u00e9nagement de l'acc\u00e8s \u00e0 la station d'\u00e9purat...</td>\n",
        "      <td> 19743.5</td>\n",
        "      <td> 9000</td>\n",
        "      <td> ACCOYER Bernard</td>\n",
        "      <td> Assembl\u00e9e nationale</td>\n",
        "      <td> HAUTE-SAVOIE</td>\n",
        "      <td> UMP</td>\n",
        "    </tr>\n",
        "    <tr>\n",
        "      <th>1</th>\n",
        "      <td> 2011/2</td>\n",
        "      <td>              ABBECOURT</td>\n",
        "      <td>  OISE</td>\n",
        "      <td> la mise en s\u00e9curit\u00e9 du parking r\u00e9serv\u00e9 au car ...</td>\n",
        "      <td> 19787.0</td>\n",
        "      <td> 9500</td>\n",
        "      <td> MARINI Philippe</td>\n",
        "      <td>               S\u00e9nat</td>\n",
        "      <td>         OISE</td>\n",
        "      <td> UMP</td>\n",
        "    </tr>\n",
        "    <tr>\n",
        "      <th>2</th>\n",
        "      <td> 2011/3</td>\n",
        "      <td> ABBEVILLE-SAINT-LUCIEN</td>\n",
        "      <td>  OISE</td>\n",
        "      <td>               l'acquisition de tables et de bancs</td>\n",
        "      <td>  2972.0</td>\n",
        "      <td> 1400</td>\n",
        "      <td>  LARCHER G\u00e9rard</td>\n",
        "      <td>               S\u00e9nat</td>\n",
        "      <td>     YVELINES</td>\n",
        "      <td> UMP</td>\n",
        "    </tr>\n",
        "  </tbody>\n",
        "</table>\n",
        "</div>"
       ],
       "metadata": {},
       "output_type": "pyout",
       "prompt_number": 260,
       "text": [
        "  Identifiant            B\u00e9n\u00e9ficiaire D\u00e9partement  \\\n",
        "0      2011/1          ABBANS-DESSOUS       DOUBS   \n",
        "1      2011/2               ABBECOURT        OISE   \n",
        "2      2011/3  ABBEVILLE-SAINT-LUCIEN        OISE   \n",
        "\n",
        "                                    Nature du projet  Co\u00fbt du projet  \\\n",
        "0  l'am\u00e9nagement de l'acc\u00e8s \u00e0 la station d'\u00e9purat...         19743.5   \n",
        "1  la mise en s\u00e9curit\u00e9 du parking r\u00e9serv\u00e9 au car ...         19787.0   \n",
        "2                l'acquisition de tables et de bancs          2972.0   \n",
        "\n",
        "   Subvention allou\u00e9e Parlementaire transmetteur               Nature  \\\n",
        "0                9000            ACCOYER Bernard  Assembl\u00e9e nationale   \n",
        "1                9500            MARINI Philippe                S\u00e9nat   \n",
        "2                1400             LARCHER G\u00e9rard                S\u00e9nat   \n",
        "\n",
        "  D\u00e9partement Parlementaire Groupe politique du parlementaire  \n",
        "0              HAUTE-SAVOIE                               UMP  \n",
        "1                      OISE                               UMP  \n",
        "2                  YVELINES                               UMP  "
       ]
      }
     ],
     "prompt_number": 260
    },
    {
     "cell_type": "markdown",
     "metadata": {},
     "source": [
      "Nous souhaitons savoir quel est le Groupe politique ayant re\u00e7u le plus de subventions. \n",
      "\n",
      "On souhaite donc **grouper** les donn\u00e9es suivant la colonne ***Groupe politique du parlementaire***, puis sommer les donn\u00e9es de la colonne ***Subvention allou\u00e9e***. \n",
      "\n",
      "Nous utilisons pour cela la m\u00e9thode **groupby** :"
     ]
    },
    {
     "cell_type": "code",
     "collapsed": false,
     "input": [
      "partis = reserve['Subvention allou\u00e9e'].groupby(reserve['Groupe politique du parlementaire'])\n",
      "\n",
      "print partis"
     ],
     "language": "python",
     "metadata": {},
     "outputs": [
      {
       "output_type": "stream",
       "stream": "stdout",
       "text": [
        "<pandas.core.groupby.SeriesGroupBy object at 0x1150d5c10>\n"
       ]
      }
     ],
     "prompt_number": 261
    },
    {
     "cell_type": "markdown",
     "metadata": {},
     "source": [
      "L'objet ***partis*** renvoy\u00e9 est une s\u00e9rie group\u00e9e. Aucun calcul n'a encore \u00e9t\u00e9 r\u00e9alis\u00e9. \n",
      "\n",
      "Si nous souhaitons sommer les r\u00e9sultats, nous pouvons appeler la m\u00e9thode **sum**"
     ]
    },
    {
     "cell_type": "code",
     "collapsed": false,
     "input": [
      "partis.sum()"
     ],
     "language": "python",
     "metadata": {},
     "outputs": [
      {
       "metadata": {},
       "output_type": "pyout",
       "prompt_number": 262,
       "text": [
        "Groupe politique du parlementaire\n",
        "CRC                                   1986638\n",
        "CRC-SPG                                824897\n",
        "ECO                                     27000\n",
        "GDR                                    721423\n",
        "NC                                    3468383\n",
        "NI                                    2042314\n",
        "RDSE                                  2102741\n",
        "SOC                                  10661046\n",
        "SOCV                                  2723624\n",
        "SRC                                   7788220\n",
        "UC                                     704360\n",
        "UDI                                   5158072\n",
        "UMP                                  79859131\n",
        "Name: Subvention allou\u00e9e, dtype: float64"
       ]
      }
     ],
     "prompt_number": 262
    },
    {
     "cell_type": "markdown",
     "metadata": {},
     "source": [
      "D'autres aggr\u00e9gations sont possibles : la m\u00e9thode **count** permet par exemple de renvoyer la taille d'un groupe (ici le nombre de subventions par partis politiques). "
     ]
    },
    {
     "cell_type": "code",
     "collapsed": false,
     "input": [
      "partis.count()"
     ],
     "language": "python",
     "metadata": {},
     "outputs": [
      {
       "metadata": {},
       "output_type": "pyout",
       "prompt_number": 263,
       "text": [
        "Groupe politique du parlementaire\n",
        "CRC                                    97\n",
        "CRC-SPG                                41\n",
        "ECO                                     1\n",
        "GDR                                    44\n",
        "NC                                    221\n",
        "NI                                    240\n",
        "RDSE                                  184\n",
        "SOC                                   990\n",
        "SOCV                                  262\n",
        "SRC                                   869\n",
        "UC                                     38\n",
        "UDI                                   501\n",
        "UMP                                  5413\n",
        "Name: Subvention allou\u00e9e, dtype: int64"
       ]
      }
     ],
     "prompt_number": 263
    },
    {
     "cell_type": "markdown",
     "metadata": {},
     "source": [
      "Nous pouvons appliquer plusieurs cl\u00e9s : **quel est le nombre de subventions par partis politiques et par chambre ?**"
     ]
    },
    {
     "cell_type": "code",
     "collapsed": false,
     "input": [
      "chambres = reserve['Subvention allou\u00e9e'].groupby([reserve['Groupe politique du parlementaire'],reserve['Nature']]).count()\n",
      "chambres"
     ],
     "language": "python",
     "metadata": {},
     "outputs": [
      {
       "metadata": {},
       "output_type": "pyout",
       "prompt_number": 264,
       "text": [
        "Groupe politique du parlementaire  Nature             \n",
        "CRC                                S\u00e9nat                    97\n",
        "CRC-SPG                            S\u00e9nat                    41\n",
        "ECO                                S\u00e9nat                     1\n",
        "GDR                                Assembl\u00e9e nationale      44\n",
        "NC                                 Assembl\u00e9e nationale     221\n",
        "NI                                 Assembl\u00e9e nationale      68\n",
        "                                   S\u00e9nat                   172\n",
        "RDSE                               S\u00e9nat                   184\n",
        "SOC                                S\u00e9nat                   990\n",
        "SOCV                               S\u00e9nat                   262\n",
        "SRC                                Assembl\u00e9e nationale     869\n",
        "UC                                 S\u00e9nat                    38\n",
        "UDI                                S\u00e9nat                   501\n",
        "UMP                                Assembl\u00e9e nationale    3211\n",
        "                                   S\u00e9nat                  2202\n",
        "Name: Subvention allou\u00e9e, dtype: int64"
       ]
      }
     ],
     "prompt_number": 264
    },
    {
     "cell_type": "markdown",
     "metadata": {},
     "source": [
      "Nous cr\u00e9ons dans ce cas une s\u00e9rie avec deux index (partis et nature). \n",
      "\n",
      "Nous pouvons faire 'd\u00e9plier' cette s\u00e9rie avec la m\u00e9thode **unstack** :"
     ]
    },
    {
     "cell_type": "code",
     "collapsed": false,
     "input": [
      "groupes_chambres = chambres.unstack()\n",
      "groupes_chambres"
     ],
     "language": "python",
     "metadata": {},
     "outputs": [
      {
       "html": [
        "<div style=\"max-height:1000px;max-width:1500px;overflow:auto;\">\n",
        "<table border=\"1\" class=\"dataframe\">\n",
        "  <thead>\n",
        "    <tr style=\"text-align: right;\">\n",
        "      <th>Nature</th>\n",
        "      <th>Assembl\u00e9e nationale</th>\n",
        "      <th>S\u00e9nat</th>\n",
        "    </tr>\n",
        "    <tr>\n",
        "      <th>Groupe politique du parlementaire</th>\n",
        "      <th></th>\n",
        "      <th></th>\n",
        "    </tr>\n",
        "  </thead>\n",
        "  <tbody>\n",
        "    <tr>\n",
        "      <th>CRC</th>\n",
        "      <td>  NaN</td>\n",
        "      <td>   97</td>\n",
        "    </tr>\n",
        "    <tr>\n",
        "      <th>CRC-SPG</th>\n",
        "      <td>  NaN</td>\n",
        "      <td>   41</td>\n",
        "    </tr>\n",
        "    <tr>\n",
        "      <th>ECO</th>\n",
        "      <td>  NaN</td>\n",
        "      <td>    1</td>\n",
        "    </tr>\n",
        "    <tr>\n",
        "      <th>GDR</th>\n",
        "      <td>   44</td>\n",
        "      <td>  NaN</td>\n",
        "    </tr>\n",
        "    <tr>\n",
        "      <th>NC</th>\n",
        "      <td>  221</td>\n",
        "      <td>  NaN</td>\n",
        "    </tr>\n",
        "    <tr>\n",
        "      <th>NI</th>\n",
        "      <td>   68</td>\n",
        "      <td>  172</td>\n",
        "    </tr>\n",
        "    <tr>\n",
        "      <th>RDSE</th>\n",
        "      <td>  NaN</td>\n",
        "      <td>  184</td>\n",
        "    </tr>\n",
        "    <tr>\n",
        "      <th>SOC</th>\n",
        "      <td>  NaN</td>\n",
        "      <td>  990</td>\n",
        "    </tr>\n",
        "    <tr>\n",
        "      <th>SOCV</th>\n",
        "      <td>  NaN</td>\n",
        "      <td>  262</td>\n",
        "    </tr>\n",
        "    <tr>\n",
        "      <th>SRC</th>\n",
        "      <td>  869</td>\n",
        "      <td>  NaN</td>\n",
        "    </tr>\n",
        "    <tr>\n",
        "      <th>UC</th>\n",
        "      <td>  NaN</td>\n",
        "      <td>   38</td>\n",
        "    </tr>\n",
        "    <tr>\n",
        "      <th>UDI</th>\n",
        "      <td>  NaN</td>\n",
        "      <td>  501</td>\n",
        "    </tr>\n",
        "    <tr>\n",
        "      <th>UMP</th>\n",
        "      <td> 3211</td>\n",
        "      <td> 2202</td>\n",
        "    </tr>\n",
        "  </tbody>\n",
        "</table>\n",
        "</div>"
       ],
       "metadata": {},
       "output_type": "pyout",
       "prompt_number": 266,
       "text": [
        "Nature                             Assembl\u00e9e nationale  S\u00e9nat\n",
        "Groupe politique du parlementaire                            \n",
        "CRC                                                NaN     97\n",
        "CRC-SPG                                            NaN     41\n",
        "ECO                                                NaN      1\n",
        "GDR                                                 44    NaN\n",
        "NC                                                 221    NaN\n",
        "NI                                                  68    172\n",
        "RDSE                                               NaN    184\n",
        "SOC                                                NaN    990\n",
        "SOCV                                               NaN    262\n",
        "SRC                                                869    NaN\n",
        "UC                                                 NaN     38\n",
        "UDI                                                NaN    501\n",
        "UMP                                               3211   2202"
       ]
      }
     ],
     "prompt_number": 266
    },
    {
     "cell_type": "markdown",
     "metadata": {},
     "source": [
      "Nous pouvons \u00e9galement grouper sans sp\u00e9cifier de colonne. Si les donn\u00e9es \u00e0 grouper se trouvent dans mon DataFrame, je peux grouper de la fa\u00e7on suivante : "
     ]
    },
    {
     "cell_type": "code",
     "collapsed": false,
     "input": [
      "reserve.groupby('Nature').count()"
     ],
     "language": "python",
     "metadata": {},
     "outputs": [
      {
       "html": [
        "<div style=\"max-height:1000px;max-width:1500px;overflow:auto;\">\n",
        "<table border=\"1\" class=\"dataframe\">\n",
        "  <thead>\n",
        "    <tr style=\"text-align: right;\">\n",
        "      <th></th>\n",
        "      <th>Identifiant</th>\n",
        "      <th>B\u00e9n\u00e9ficiaire</th>\n",
        "      <th>D\u00e9partement</th>\n",
        "      <th>Nature du projet</th>\n",
        "      <th>Co\u00fbt du projet</th>\n",
        "      <th>Subvention allou\u00e9e</th>\n",
        "      <th>Parlementaire transmetteur</th>\n",
        "      <th>D\u00e9partement Parlementaire</th>\n",
        "      <th>Groupe politique du parlementaire</th>\n",
        "    </tr>\n",
        "    <tr>\n",
        "      <th>Nature</th>\n",
        "      <th></th>\n",
        "      <th></th>\n",
        "      <th></th>\n",
        "      <th></th>\n",
        "      <th></th>\n",
        "      <th></th>\n",
        "      <th></th>\n",
        "      <th></th>\n",
        "      <th></th>\n",
        "    </tr>\n",
        "  </thead>\n",
        "  <tbody>\n",
        "    <tr>\n",
        "      <th>Assembl\u00e9e nationale</th>\n",
        "      <td> 4523</td>\n",
        "      <td> 4523</td>\n",
        "      <td> 4523</td>\n",
        "      <td> 4523</td>\n",
        "      <td> 4523</td>\n",
        "      <td> 4523</td>\n",
        "      <td> 4523</td>\n",
        "      <td> 4424</td>\n",
        "      <td> 4413</td>\n",
        "    </tr>\n",
        "    <tr>\n",
        "      <th>R\u00e9serve minist\u00e9rielle</th>\n",
        "      <td> 1249</td>\n",
        "      <td> 1249</td>\n",
        "      <td> 1249</td>\n",
        "      <td> 1249</td>\n",
        "      <td> 1249</td>\n",
        "      <td> 1249</td>\n",
        "      <td> 1249</td>\n",
        "      <td>    0</td>\n",
        "      <td>    0</td>\n",
        "    </tr>\n",
        "    <tr>\n",
        "      <th>S\u00e9nat</th>\n",
        "      <td> 4602</td>\n",
        "      <td> 4602</td>\n",
        "      <td> 4594</td>\n",
        "      <td> 4602</td>\n",
        "      <td> 4602</td>\n",
        "      <td> 4602</td>\n",
        "      <td> 4602</td>\n",
        "      <td> 4488</td>\n",
        "      <td> 4488</td>\n",
        "    </tr>\n",
        "  </tbody>\n",
        "</table>\n",
        "</div>"
       ],
       "metadata": {},
       "output_type": "pyout",
       "prompt_number": 267,
       "text": [
        "                       Identifiant  B\u00e9n\u00e9ficiaire  D\u00e9partement  \\\n",
        "Nature                                                          \n",
        "Assembl\u00e9e nationale           4523          4523         4523   \n",
        "R\u00e9serve minist\u00e9rielle         1249          1249         1249   \n",
        "S\u00e9nat                         4602          4602         4594   \n",
        "\n",
        "                       Nature du projet  Co\u00fbt du projet  Subvention allou\u00e9e  \\\n",
        "Nature                                                                        \n",
        "Assembl\u00e9e nationale                4523            4523                4523   \n",
        "R\u00e9serve minist\u00e9rielle              1249            1249                1249   \n",
        "S\u00e9nat                              4602            4602                4602   \n",
        "\n",
        "                       Parlementaire transmetteur  D\u00e9partement Parlementaire  \\\n",
        "Nature                                                                         \n",
        "Assembl\u00e9e nationale                          4523                       4424   \n",
        "R\u00e9serve minist\u00e9rielle                        1249                          0   \n",
        "S\u00e9nat                                        4602                       4488   \n",
        "\n",
        "                       Groupe politique du parlementaire  \n",
        "Nature                                                    \n",
        "Assembl\u00e9e nationale                                 4413  \n",
        "R\u00e9serve minist\u00e9rielle                                  0  \n",
        "S\u00e9nat                                               4488  "
       ]
      }
     ],
     "prompt_number": 267
    },
    {
     "cell_type": "markdown",
     "metadata": {},
     "source": [
      "(Attention aux aggr\u00e9gations h\u00e2tives ;))"
     ]
    },
    {
     "cell_type": "markdown",
     "metadata": {},
     "source": [
      "Pandas nous permet \u00e9galement de passer des dictionnaires ou des s\u00e9ries au sein des groupes. \n",
      "\n",
      "Cela est int\u00e9ressant lorsque nous souhaitons faire un mapping entre les colonnes (ou les lignes). \n",
      "\n",
      "Dans notre cas, les acronymes entre l'Assembl\u00e9e Nationale et le S\u00e9nat varient (i.e : SOC et SRC d\u00e9signent tous deux les groupes du Parti Socialiste). On peut donc \u00e9crire la correspondance suivante : "
     ]
    },
    {
     "cell_type": "code",
     "collapsed": false,
     "input": [
      "mapping = {'CRC':'Ext. Gauche', \n",
      "           'CRC-SPG':'Ext. Gauche', \n",
      "           'ECO':'Ecologistes', \n",
      "           'GDR':'Radicaux', \n",
      "           'NC':'Centristes', \n",
      "           'NI':'Non Inscrits', \n",
      "           'RDSE':'Radicaux',\n",
      "           'SOC':'Parti Socialiste',\n",
      "           'SOCV':'Parti Socialiste',\n",
      "           'SRC':'Parti Socialiste',\n",
      "           'UC':'Centristes', \n",
      "           'UDI':'Centristes', \n",
      "           'UMP':'Union Mouvement Populaire'}"
     ],
     "language": "python",
     "metadata": {},
     "outputs": [],
     "prompt_number": 231
    },
    {
     "cell_type": "markdown",
     "metadata": {},
     "source": [
      "Dans ce cas, nous souhaitons grouper selon la correspondance des index (axis =0) du DataFrame **groupes_chambres** avec le dictionnaire **mapping**, soit : "
     ]
    },
    {
     "cell_type": "code",
     "collapsed": false,
     "input": [
      "groupes_chambres.groupby(mapping, axis=0).sum().sort('S\u00e9nat',ascending=True).plot(kind='barh')"
     ],
     "language": "python",
     "metadata": {},
     "outputs": [
      {
       "metadata": {},
       "output_type": "pyout",
       "prompt_number": 276,
       "text": [
        "<matplotlib.axes.AxesSubplot at 0x1148ec210>"
       ]
      },
      {
       "metadata": {},
       "output_type": "display_data",
       "png": "[encoded data removed]",
       "text": [
        "<matplotlib.figure.Figure at 0x114ae4050>"
       ]
      }
     ],
     "prompt_number": 276
    },
    {
     "cell_type": "markdown",
     "metadata": {},
     "source": [
      "Une autre fa\u00e7on de r\u00e9aliser facilement des mapping, est d'utiliser la m\u00e9thode **map** sur une s\u00e9rie. Dans notre cas : "
     ]
    },
    {
     "cell_type": "code",
     "collapsed": false,
     "input": [
      "reserve['Groupe politique du parlementaire'].map(mapping)"
     ],
     "language": "python",
     "metadata": {},
     "outputs": [
      {
       "metadata": {},
       "output_type": "pyout",
       "prompt_number": 242,
       "text": [
        "0     Union Mouvement Populaire\n",
        "1     Union Mouvement Populaire\n",
        "2     Union Mouvement Populaire\n",
        "3     Union Mouvement Populaire\n",
        "4                    Centristes\n",
        "5                  Non Inscrits\n",
        "6     Union Mouvement Populaire\n",
        "7                           NaN\n",
        "8                           NaN\n",
        "9              Parti Socialiste\n",
        "10                          NaN\n",
        "11                          NaN\n",
        "12    Union Mouvement Populaire\n",
        "13             Parti Socialiste\n",
        "14    Union Mouvement Populaire\n",
        "...\n",
        "10359    Union Mouvement Populaire\n",
        "10360             Parti Socialiste\n",
        "10361             Parti Socialiste\n",
        "10362    Union Mouvement Populaire\n",
        "10363    Union Mouvement Populaire\n",
        "10364             Parti Socialiste\n",
        "10365    Union Mouvement Populaire\n",
        "10366             Parti Socialiste\n",
        "10367    Union Mouvement Populaire\n",
        "10368    Union Mouvement Populaire\n",
        "10369    Union Mouvement Populaire\n",
        "10370                   Centristes\n",
        "10371                          NaN\n",
        "10372             Parti Socialiste\n",
        "10373    Union Mouvement Populaire\n",
        "Name: Groupe politique du parlementaire, Length: 10374, dtype: object"
       ]
      }
     ],
     "prompt_number": 242
    },
    {
     "cell_type": "heading",
     "level": 2,
     "metadata": {},
     "source": [
      "Data Aggregation"
     ]
    },
    {
     "cell_type": "code",
     "collapsed": false,
     "input": [],
     "language": "python",
     "metadata": {},
     "outputs": []
    }
   ],
   "metadata": {}
  }
 ]
}