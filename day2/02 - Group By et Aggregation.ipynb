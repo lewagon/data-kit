{
 "metadata": {
  "name": ""
 },
 "nbformat": 3,
 "nbformat_minor": 0,
 "worksheets": [
  {
   "cells": [
    {
     "cell_type": "heading",
     "level": 1,
     "metadata": {},
     "source": [
      "Group by et Aggr\u00e9gation "
     ]
    },
    {
     "cell_type": "markdown",
     "metadata": {},
     "source": [
      "Grouper un set de donn\u00e9es suivant une ou plusieurs dimensions et appliquer une r\u00e9duction est une composante cl\u00e9 de toute analyse. \n",
      "\n",
      "Le langage SQL ainsi que les tableaux crois\u00e9s dynamiques offrent de premi\u00e8res fonctions de Grouping. \n",
      "\n",
      "Dans ce chapitre nous verrons comment Pandas permet de r\u00e9aliser de s\u00e9parer un set de donn\u00e9es suivant une ou plusieurs cl\u00e9s et appliqu\u00e9 des r\u00e9ductions ou transformations sur chacun de ces groupes. "
     ]
    },
    {
     "cell_type": "heading",
     "level": 2,
     "metadata": {},
     "source": [
      "Group By"
     ]
    },
    {
     "cell_type": "code",
     "collapsed": false,
     "input": [
      "import pandas as pd"
     ],
     "language": "python",
     "metadata": {},
     "outputs": [],
     "prompt_number": 460
    },
    {
     "cell_type": "markdown",
     "metadata": {},
     "source": [
      "La m\u00e9canique du group by peut \u00eatre r\u00e9sum\u00e9 suivant le sch\u00e9ma ci-dessous : \n",
      "    \n",
      "   - **Split** : un set de donn\u00e9es est s\u00e9par\u00e9 suivant des cl\u00e9s\n",
      "   - **Apply** : une fonction est appliqu\u00e9e sur chacun de ces groupes \n",
      "   - **Combine** : les r\u00e9sultats sont ensuite regroup\u00e9s au sein d'un seul objet "
     ]
    },
    {
     "cell_type": "markdown",
     "metadata": {},
     "source": [
      "<img src='files/images/groupby.png' width=500>\n",
      "\n",
      "> <cite>Source: Python for Data Analysis</cite>"
     ]
    },
    {
     "cell_type": "markdown",
     "metadata": {},
     "source": [
      "Nous allons utiliser dans cet exemple le set de donn\u00e9es ***reserve_parlementaire.csv*** (Il s'agit de la liste des r\u00e9serves parlementaries mises en ligne en 2011). \n",
      "\n",
      "Importons ce fichier et inspectons le : "
     ]
    },
    {
     "cell_type": "code",
     "collapsed": false,
     "input": [
      "reserve = pd.read_csv(\"data/reserve.csv\")\n",
      "reserve.head(3)"
     ],
     "language": "python",
     "metadata": {},
     "outputs": [
      {
       "html": [
        "<div style=\"max-height:1000px;max-width:1500px;overflow:auto;\">\n",
        "<table border=\"1\" class=\"dataframe\">\n",
        "  <thead>\n",
        "    <tr style=\"text-align: right;\">\n",
        "      <th></th>\n",
        "      <th>Identifiant</th>\n",
        "      <th>B\u00e9n\u00e9ficiaire</th>\n",
        "      <th>D\u00e9partement</th>\n",
        "      <th>Nature du projet</th>\n",
        "      <th>Co\u00fbt du projet</th>\n",
        "      <th>Subvention allou\u00e9e</th>\n",
        "      <th>Parlementaire transmetteur</th>\n",
        "      <th>Nature</th>\n",
        "      <th>D\u00e9partement Parlementaire</th>\n",
        "      <th>Groupe politique du parlementaire</th>\n",
        "    </tr>\n",
        "  </thead>\n",
        "  <tbody>\n",
        "    <tr>\n",
        "      <th>0</th>\n",
        "      <td> 2011/1</td>\n",
        "      <td>         ABBANS-DESSOUS</td>\n",
        "      <td> DOUBS</td>\n",
        "      <td> l'am\u00e9nagement de l'acc\u00e8s \u00e0 la station d'\u00e9purat...</td>\n",
        "      <td> 19743.5</td>\n",
        "      <td> 9000</td>\n",
        "      <td> ACCOYER Bernard</td>\n",
        "      <td> Assembl\u00e9e nationale</td>\n",
        "      <td> HAUTE-SAVOIE</td>\n",
        "      <td> UMP</td>\n",
        "    </tr>\n",
        "    <tr>\n",
        "      <th>1</th>\n",
        "      <td> 2011/2</td>\n",
        "      <td>              ABBECOURT</td>\n",
        "      <td>  OISE</td>\n",
        "      <td> la mise en s\u00e9curit\u00e9 du parking r\u00e9serv\u00e9 au car ...</td>\n",
        "      <td> 19787.0</td>\n",
        "      <td> 9500</td>\n",
        "      <td> MARINI Philippe</td>\n",
        "      <td>               S\u00e9nat</td>\n",
        "      <td>         OISE</td>\n",
        "      <td> UMP</td>\n",
        "    </tr>\n",
        "    <tr>\n",
        "      <th>2</th>\n",
        "      <td> 2011/3</td>\n",
        "      <td> ABBEVILLE-SAINT-LUCIEN</td>\n",
        "      <td>  OISE</td>\n",
        "      <td>               l'acquisition de tables et de bancs</td>\n",
        "      <td>  2972.0</td>\n",
        "      <td> 1400</td>\n",
        "      <td>  LARCHER G\u00e9rard</td>\n",
        "      <td>               S\u00e9nat</td>\n",
        "      <td>     YVELINES</td>\n",
        "      <td> UMP</td>\n",
        "    </tr>\n",
        "  </tbody>\n",
        "</table>\n",
        "</div>"
       ],
       "metadata": {},
       "output_type": "pyout",
       "prompt_number": 295,
       "text": [
        "  Identifiant            B\u00e9n\u00e9ficiaire D\u00e9partement  \\\n",
        "0      2011/1          ABBANS-DESSOUS       DOUBS   \n",
        "1      2011/2               ABBECOURT        OISE   \n",
        "2      2011/3  ABBEVILLE-SAINT-LUCIEN        OISE   \n",
        "\n",
        "                                    Nature du projet  Co\u00fbt du projet  \\\n",
        "0  l'am\u00e9nagement de l'acc\u00e8s \u00e0 la station d'\u00e9purat...         19743.5   \n",
        "1  la mise en s\u00e9curit\u00e9 du parking r\u00e9serv\u00e9 au car ...         19787.0   \n",
        "2                l'acquisition de tables et de bancs          2972.0   \n",
        "\n",
        "   Subvention allou\u00e9e Parlementaire transmetteur               Nature  \\\n",
        "0                9000            ACCOYER Bernard  Assembl\u00e9e nationale   \n",
        "1                9500            MARINI Philippe                S\u00e9nat   \n",
        "2                1400             LARCHER G\u00e9rard                S\u00e9nat   \n",
        "\n",
        "  D\u00e9partement Parlementaire Groupe politique du parlementaire  \n",
        "0              HAUTE-SAVOIE                               UMP  \n",
        "1                      OISE                               UMP  \n",
        "2                  YVELINES                               UMP  "
       ]
      }
     ],
     "prompt_number": 295
    },
    {
     "cell_type": "markdown",
     "metadata": {},
     "source": [
      "Nous souhaitons savoir quel est le Groupe politique ayant re\u00e7u le plus de subventions. \n",
      "\n",
      "On souhaite donc **grouper** les donn\u00e9es suivant la colonne ***Groupe politique du parlementaire***, puis sommer les donn\u00e9es de la colonne ***Subvention allou\u00e9e***. \n",
      "\n",
      "Nous utilisons pour cela la m\u00e9thode **groupby** :"
     ]
    },
    {
     "cell_type": "code",
     "collapsed": false,
     "input": [
      "partis = reserve['Subvention allou\u00e9e'].groupby(reserve['Groupe politique du parlementaire'])\n",
      "\n",
      "print partis"
     ],
     "language": "python",
     "metadata": {},
     "outputs": [
      {
       "output_type": "stream",
       "stream": "stdout",
       "text": [
        "<pandas.core.groupby.SeriesGroupBy object at 0x1150d5c10>\n"
       ]
      }
     ],
     "prompt_number": 261
    },
    {
     "cell_type": "markdown",
     "metadata": {},
     "source": [
      "L'objet ***partis*** renvoy\u00e9 est une s\u00e9rie group\u00e9e. Aucun calcul n'a encore \u00e9t\u00e9 r\u00e9alis\u00e9. \n",
      "\n",
      "Si nous souhaitons sommer les r\u00e9sultats, nous pouvons appliquer une fonction. Ici gr\u00e2ce \u00e0 la m\u00e9thode **sum**"
     ]
    },
    {
     "cell_type": "code",
     "collapsed": false,
     "input": [
      "partis.sum()"
     ],
     "language": "python",
     "metadata": {},
     "outputs": [
      {
       "metadata": {},
       "output_type": "pyout",
       "prompt_number": 262,
       "text": [
        "Groupe politique du parlementaire\n",
        "CRC                                   1986638\n",
        "CRC-SPG                                824897\n",
        "ECO                                     27000\n",
        "GDR                                    721423\n",
        "NC                                    3468383\n",
        "NI                                    2042314\n",
        "RDSE                                  2102741\n",
        "SOC                                  10661046\n",
        "SOCV                                  2723624\n",
        "SRC                                   7788220\n",
        "UC                                     704360\n",
        "UDI                                   5158072\n",
        "UMP                                  79859131\n",
        "Name: Subvention allou\u00e9e, dtype: float64"
       ]
      }
     ],
     "prompt_number": 262
    },
    {
     "cell_type": "markdown",
     "metadata": {},
     "source": [
      "D'autres aggr\u00e9gations sont possibles : la m\u00e9thode **count** permet par exemple de renvoyer la taille d'un groupe (ici le nombre de subventions par partis politiques). "
     ]
    },
    {
     "cell_type": "code",
     "collapsed": false,
     "input": [
      "partis.count()"
     ],
     "language": "python",
     "metadata": {},
     "outputs": [
      {
       "metadata": {},
       "output_type": "pyout",
       "prompt_number": 263,
       "text": [
        "Groupe politique du parlementaire\n",
        "CRC                                    97\n",
        "CRC-SPG                                41\n",
        "ECO                                     1\n",
        "GDR                                    44\n",
        "NC                                    221\n",
        "NI                                    240\n",
        "RDSE                                  184\n",
        "SOC                                   990\n",
        "SOCV                                  262\n",
        "SRC                                   869\n",
        "UC                                     38\n",
        "UDI                                   501\n",
        "UMP                                  5413\n",
        "Name: Subvention allou\u00e9e, dtype: int64"
       ]
      }
     ],
     "prompt_number": 263
    },
    {
     "cell_type": "heading",
     "level": 3,
     "metadata": {},
     "source": [
      "A vous : "
     ]
    },
    {
     "cell_type": "markdown",
     "metadata": {},
     "source": [
      "   - Quelle a \u00e9t\u00e9 la plus grande subvention allou\u00e9e en 2011 ? \n",
      "   - Quel est le parlementaire qui a re\u00e7u le plus grand nombre de subventions ? \n",
      "   - Quel est le parlementaire qui a re\u00e7u le plus de subventions en valeur ? \n",
      "   - Quel est le d\u00e9partement qui a re\u00e7u le plus de subventions ? "
     ]
    },
    {
     "cell_type": "markdown",
     "metadata": {},
     "source": [
      "Nous pouvons appliquer plusieurs cl\u00e9s : **quel est le nombre de subventions par partis politiques et par chambre ?**"
     ]
    },
    {
     "cell_type": "code",
     "collapsed": false,
     "input": [
      "chambres = reserve['Subvention allou\u00e9e'].groupby([reserve['Groupe politique du parlementaire'],reserve['Nature']]).count()\n",
      "chambres"
     ],
     "language": "python",
     "metadata": {},
     "outputs": [
      {
       "metadata": {},
       "output_type": "pyout",
       "prompt_number": 264,
       "text": [
        "Groupe politique du parlementaire  Nature             \n",
        "CRC                                S\u00e9nat                    97\n",
        "CRC-SPG                            S\u00e9nat                    41\n",
        "ECO                                S\u00e9nat                     1\n",
        "GDR                                Assembl\u00e9e nationale      44\n",
        "NC                                 Assembl\u00e9e nationale     221\n",
        "NI                                 Assembl\u00e9e nationale      68\n",
        "                                   S\u00e9nat                   172\n",
        "RDSE                               S\u00e9nat                   184\n",
        "SOC                                S\u00e9nat                   990\n",
        "SOCV                               S\u00e9nat                   262\n",
        "SRC                                Assembl\u00e9e nationale     869\n",
        "UC                                 S\u00e9nat                    38\n",
        "UDI                                S\u00e9nat                   501\n",
        "UMP                                Assembl\u00e9e nationale    3211\n",
        "                                   S\u00e9nat                  2202\n",
        "Name: Subvention allou\u00e9e, dtype: int64"
       ]
      }
     ],
     "prompt_number": 264
    },
    {
     "cell_type": "markdown",
     "metadata": {},
     "source": [
      "Nous cr\u00e9ons dans ce cas une s\u00e9rie avec deux index (partis et nature). \n",
      "\n",
      "Nous pouvons faire 'd\u00e9plier' cette s\u00e9rie avec la m\u00e9thode **unstack** :"
     ]
    },
    {
     "cell_type": "code",
     "collapsed": false,
     "input": [
      "groupes_chambres = chambres.unstack()\n",
      "groupes_chambres"
     ],
     "language": "python",
     "metadata": {},
     "outputs": [
      {
       "html": [
        "<div style=\"max-height:1000px;max-width:1500px;overflow:auto;\">\n",
        "<table border=\"1\" class=\"dataframe\">\n",
        "  <thead>\n",
        "    <tr style=\"text-align: right;\">\n",
        "      <th>Nature</th>\n",
        "      <th>Assembl\u00e9e nationale</th>\n",
        "      <th>S\u00e9nat</th>\n",
        "    </tr>\n",
        "    <tr>\n",
        "      <th>Groupe politique du parlementaire</th>\n",
        "      <th></th>\n",
        "      <th></th>\n",
        "    </tr>\n",
        "  </thead>\n",
        "  <tbody>\n",
        "    <tr>\n",
        "      <th>CRC</th>\n",
        "      <td>  NaN</td>\n",
        "      <td>   97</td>\n",
        "    </tr>\n",
        "    <tr>\n",
        "      <th>CRC-SPG</th>\n",
        "      <td>  NaN</td>\n",
        "      <td>   41</td>\n",
        "    </tr>\n",
        "    <tr>\n",
        "      <th>ECO</th>\n",
        "      <td>  NaN</td>\n",
        "      <td>    1</td>\n",
        "    </tr>\n",
        "    <tr>\n",
        "      <th>GDR</th>\n",
        "      <td>   44</td>\n",
        "      <td>  NaN</td>\n",
        "    </tr>\n",
        "    <tr>\n",
        "      <th>NC</th>\n",
        "      <td>  221</td>\n",
        "      <td>  NaN</td>\n",
        "    </tr>\n",
        "    <tr>\n",
        "      <th>NI</th>\n",
        "      <td>   68</td>\n",
        "      <td>  172</td>\n",
        "    </tr>\n",
        "    <tr>\n",
        "      <th>RDSE</th>\n",
        "      <td>  NaN</td>\n",
        "      <td>  184</td>\n",
        "    </tr>\n",
        "    <tr>\n",
        "      <th>SOC</th>\n",
        "      <td>  NaN</td>\n",
        "      <td>  990</td>\n",
        "    </tr>\n",
        "    <tr>\n",
        "      <th>SOCV</th>\n",
        "      <td>  NaN</td>\n",
        "      <td>  262</td>\n",
        "    </tr>\n",
        "    <tr>\n",
        "      <th>SRC</th>\n",
        "      <td>  869</td>\n",
        "      <td>  NaN</td>\n",
        "    </tr>\n",
        "    <tr>\n",
        "      <th>UC</th>\n",
        "      <td>  NaN</td>\n",
        "      <td>   38</td>\n",
        "    </tr>\n",
        "    <tr>\n",
        "      <th>UDI</th>\n",
        "      <td>  NaN</td>\n",
        "      <td>  501</td>\n",
        "    </tr>\n",
        "    <tr>\n",
        "      <th>UMP</th>\n",
        "      <td> 3211</td>\n",
        "      <td> 2202</td>\n",
        "    </tr>\n",
        "  </tbody>\n",
        "</table>\n",
        "</div>"
       ],
       "metadata": {},
       "output_type": "pyout",
       "prompt_number": 266,
       "text": [
        "Nature                             Assembl\u00e9e nationale  S\u00e9nat\n",
        "Groupe politique du parlementaire                            \n",
        "CRC                                                NaN     97\n",
        "CRC-SPG                                            NaN     41\n",
        "ECO                                                NaN      1\n",
        "GDR                                                 44    NaN\n",
        "NC                                                 221    NaN\n",
        "NI                                                  68    172\n",
        "RDSE                                               NaN    184\n",
        "SOC                                                NaN    990\n",
        "SOCV                                               NaN    262\n",
        "SRC                                                869    NaN\n",
        "UC                                                 NaN     38\n",
        "UDI                                                NaN    501\n",
        "UMP                                               3211   2202"
       ]
      }
     ],
     "prompt_number": 266
    },
    {
     "cell_type": "markdown",
     "metadata": {},
     "source": [
      "Nous pouvons \u00e9galement grouper sans sp\u00e9cifier de colonne. Si les donn\u00e9es \u00e0 grouper se trouvent dans mon DataFrame, je peux grouper de la fa\u00e7on suivante : "
     ]
    },
    {
     "cell_type": "code",
     "collapsed": false,
     "input": [
      "reserve.groupby('Nature').count()"
     ],
     "language": "python",
     "metadata": {},
     "outputs": [
      {
       "html": [
        "<div style=\"max-height:1000px;max-width:1500px;overflow:auto;\">\n",
        "<table border=\"1\" class=\"dataframe\">\n",
        "  <thead>\n",
        "    <tr style=\"text-align: right;\">\n",
        "      <th></th>\n",
        "      <th>Identifiant</th>\n",
        "      <th>B\u00e9n\u00e9ficiaire</th>\n",
        "      <th>D\u00e9partement</th>\n",
        "      <th>Nature du projet</th>\n",
        "      <th>Co\u00fbt du projet</th>\n",
        "      <th>Subvention allou\u00e9e</th>\n",
        "      <th>Parlementaire transmetteur</th>\n",
        "      <th>D\u00e9partement Parlementaire</th>\n",
        "      <th>Groupe politique du parlementaire</th>\n",
        "    </tr>\n",
        "    <tr>\n",
        "      <th>Nature</th>\n",
        "      <th></th>\n",
        "      <th></th>\n",
        "      <th></th>\n",
        "      <th></th>\n",
        "      <th></th>\n",
        "      <th></th>\n",
        "      <th></th>\n",
        "      <th></th>\n",
        "      <th></th>\n",
        "    </tr>\n",
        "  </thead>\n",
        "  <tbody>\n",
        "    <tr>\n",
        "      <th>Assembl\u00e9e nationale</th>\n",
        "      <td> 4523</td>\n",
        "      <td> 4523</td>\n",
        "      <td> 4523</td>\n",
        "      <td> 4523</td>\n",
        "      <td> 4523</td>\n",
        "      <td> 4523</td>\n",
        "      <td> 4523</td>\n",
        "      <td> 4424</td>\n",
        "      <td> 4413</td>\n",
        "    </tr>\n",
        "    <tr>\n",
        "      <th>R\u00e9serve minist\u00e9rielle</th>\n",
        "      <td> 1249</td>\n",
        "      <td> 1249</td>\n",
        "      <td> 1249</td>\n",
        "      <td> 1249</td>\n",
        "      <td> 1249</td>\n",
        "      <td> 1249</td>\n",
        "      <td> 1249</td>\n",
        "      <td>    0</td>\n",
        "      <td>    0</td>\n",
        "    </tr>\n",
        "    <tr>\n",
        "      <th>S\u00e9nat</th>\n",
        "      <td> 4602</td>\n",
        "      <td> 4602</td>\n",
        "      <td> 4594</td>\n",
        "      <td> 4602</td>\n",
        "      <td> 4602</td>\n",
        "      <td> 4602</td>\n",
        "      <td> 4602</td>\n",
        "      <td> 4488</td>\n",
        "      <td> 4488</td>\n",
        "    </tr>\n",
        "  </tbody>\n",
        "</table>\n",
        "</div>"
       ],
       "metadata": {},
       "output_type": "pyout",
       "prompt_number": 267,
       "text": [
        "                       Identifiant  B\u00e9n\u00e9ficiaire  D\u00e9partement  \\\n",
        "Nature                                                          \n",
        "Assembl\u00e9e nationale           4523          4523         4523   \n",
        "R\u00e9serve minist\u00e9rielle         1249          1249         1249   \n",
        "S\u00e9nat                         4602          4602         4594   \n",
        "\n",
        "                       Nature du projet  Co\u00fbt du projet  Subvention allou\u00e9e  \\\n",
        "Nature                                                                        \n",
        "Assembl\u00e9e nationale                4523            4523                4523   \n",
        "R\u00e9serve minist\u00e9rielle              1249            1249                1249   \n",
        "S\u00e9nat                              4602            4602                4602   \n",
        "\n",
        "                       Parlementaire transmetteur  D\u00e9partement Parlementaire  \\\n",
        "Nature                                                                         \n",
        "Assembl\u00e9e nationale                          4523                       4424   \n",
        "R\u00e9serve minist\u00e9rielle                        1249                          0   \n",
        "S\u00e9nat                                        4602                       4488   \n",
        "\n",
        "                       Groupe politique du parlementaire  \n",
        "Nature                                                    \n",
        "Assembl\u00e9e nationale                                 4413  \n",
        "R\u00e9serve minist\u00e9rielle                                  0  \n",
        "S\u00e9nat                                               4488  "
       ]
      }
     ],
     "prompt_number": 267
    },
    {
     "cell_type": "markdown",
     "metadata": {},
     "source": [
      "(Attention aux aggr\u00e9gations h\u00e2tives ;))"
     ]
    },
    {
     "cell_type": "heading",
     "level": 3,
     "metadata": {},
     "source": [
      "A vous : "
     ]
    },
    {
     "cell_type": "markdown",
     "metadata": {},
     "source": [
      "- Quelle est la moyenne des co\u00fbts de projets par type d'assembl\u00e9e ? \n",
      "- Combien de projets le S\u00e9nat a - t-il financ\u00e9 dans les Yvelines ? \n",
      "- Quelle a \u00e9t\u00e9 la subvention allou\u00e9e pour l'UMP \u00e0 Paris ? "
     ]
    },
    {
     "cell_type": "markdown",
     "metadata": {},
     "source": [
      "Pandas nous permet \u00e9galement de passer des dictionnaires ou des s\u00e9ries au sein des groupes. \n",
      "\n",
      "Cela est int\u00e9ressant lorsque nous souhaitons faire un mapping entre les colonnes (ou les lignes). \n",
      "\n",
      "Dans notre cas, les acronymes entre l'Assembl\u00e9e Nationale et le S\u00e9nat varient (i.e : SOC et SRC d\u00e9signent tous deux les groupes du Parti Socialiste). On peut donc \u00e9crire la correspondance suivante : "
     ]
    },
    {
     "cell_type": "code",
     "collapsed": false,
     "input": [
      "mapping = {'CRC':'Partis de Gauche', \n",
      "           'CRC-SPG':'Partis de Gauche', \n",
      "           'ECO':'Ecologistes', \n",
      "           'GDR':'Radicaux', \n",
      "           'NC':'Centristes', \n",
      "           'NI':'Non Inscrits', \n",
      "           'RDSE':'Radicaux',\n",
      "           'SOC':'Parti Socialiste',\n",
      "           'SOCV':'Parti Socialiste',\n",
      "           'SRC':'Parti Socialiste',\n",
      "           'UC':'Centristes', \n",
      "           'UDI':'Centristes', \n",
      "           'UMP':'Union Mouvement Populaire'}"
     ],
     "language": "python",
     "metadata": {},
     "outputs": [],
     "prompt_number": 342
    },
    {
     "cell_type": "markdown",
     "metadata": {},
     "source": [
      "Dans ce cas, nous souhaitons grouper selon la correspondance des index (axis =0) du DataFrame **groupes_chambres** avec le dictionnaire **mapping**, soit : "
     ]
    },
    {
     "cell_type": "code",
     "collapsed": false,
     "input": [
      "groupes_chambres.groupby(mapping, axis=0).sum()"
     ],
     "language": "python",
     "metadata": {},
     "outputs": [
      {
       "html": [
        "<div style=\"max-height:1000px;max-width:1500px;overflow:auto;\">\n",
        "<table border=\"1\" class=\"dataframe\">\n",
        "  <thead>\n",
        "    <tr style=\"text-align: right;\">\n",
        "      <th>Nature</th>\n",
        "      <th>Assembl\u00e9e nationale</th>\n",
        "      <th>S\u00e9nat</th>\n",
        "    </tr>\n",
        "  </thead>\n",
        "  <tbody>\n",
        "    <tr>\n",
        "      <th>Centristes</th>\n",
        "      <td>  221</td>\n",
        "      <td>  539</td>\n",
        "    </tr>\n",
        "    <tr>\n",
        "      <th>Ecologistes</th>\n",
        "      <td>  NaN</td>\n",
        "      <td>    1</td>\n",
        "    </tr>\n",
        "    <tr>\n",
        "      <th>Non Inscrits</th>\n",
        "      <td>   68</td>\n",
        "      <td>  172</td>\n",
        "    </tr>\n",
        "    <tr>\n",
        "      <th>Parti Socialiste</th>\n",
        "      <td>  869</td>\n",
        "      <td> 1252</td>\n",
        "    </tr>\n",
        "    <tr>\n",
        "      <th>Partis de Gauche</th>\n",
        "      <td>  NaN</td>\n",
        "      <td>  138</td>\n",
        "    </tr>\n",
        "    <tr>\n",
        "      <th>Radicaux</th>\n",
        "      <td>   44</td>\n",
        "      <td>  184</td>\n",
        "    </tr>\n",
        "    <tr>\n",
        "      <th>Union Mouvement Populaire</th>\n",
        "      <td> 3211</td>\n",
        "      <td> 2202</td>\n",
        "    </tr>\n",
        "  </tbody>\n",
        "</table>\n",
        "</div>"
       ],
       "metadata": {},
       "output_type": "pyout",
       "prompt_number": 482,
       "text": [
        "Nature                     Assembl\u00e9e nationale  S\u00e9nat\n",
        "Centristes                                 221    539\n",
        "Ecologistes                                NaN      1\n",
        "Non Inscrits                                68    172\n",
        "Parti Socialiste                           869   1252\n",
        "Partis de Gauche                           NaN    138\n",
        "Radicaux                                    44    184\n",
        "Union Mouvement Populaire                 3211   2202"
       ]
      }
     ],
     "prompt_number": 482
    },
    {
     "cell_type": "markdown",
     "metadata": {},
     "source": [
      "Une autre fa\u00e7on de r\u00e9aliser facilement des mapping, est d'utiliser la m\u00e9thode **map** sur une s\u00e9rie. Dans notre cas : "
     ]
    },
    {
     "cell_type": "code",
     "collapsed": false,
     "input": [
      "reserve['parti'] = reserve['Groupe politique du parlementaire'].map(mapping)"
     ],
     "language": "python",
     "metadata": {},
     "outputs": [],
     "prompt_number": 341
    },
    {
     "cell_type": "heading",
     "level": 3,
     "metadata": {},
     "source": [
      "A vous : "
     ]
    },
    {
     "cell_type": "markdown",
     "metadata": {},
     "source": [
      "- Cr\u00e9ez une nouvelle colonne avec les r\u00e9gions en utilisant le fichier **regions.json** \n",
      "- Quelle est la r\u00e9gion qui a re\u00e7u le plus de subventions ? "
     ]
    },
    {
     "cell_type": "code",
     "collapsed": false,
     "input": [
      "import json\n",
      "\n",
      "regions = json.load(open('data/regions.json'))"
     ],
     "language": "python",
     "metadata": {},
     "outputs": [],
     "prompt_number": 489
    },
    {
     "cell_type": "heading",
     "level": 2,
     "metadata": {},
     "source": [
      "Agr\u00e9gation"
     ]
    },
    {
     "cell_type": "markdown",
     "metadata": {},
     "source": [
      "L'aggr\u00e9gation de donn\u00e9es correspond \u00e0 une transformation d'un tableau de donn\u00e9es en une valeur. \n",
      "\n",
      "Pandas permet d'acc\u00e9der \u00e0 des agr\u00e9gations g\u00e9n\u00e9riques (moyennes, somme etc..), mais il est \u00e9galement possible de cr\u00e9er ses propres fonctions d'agr\u00e9gation. "
     ]
    },
    {
     "cell_type": "markdown",
     "metadata": {},
     "source": [
      "Il est ainsi possible d'aggr\u00e9ger ses donn\u00e9es en utilisant plusieurs fonctions d'agr\u00e9gations. D\u00e9clarons par exemple les trois fonctions suivantes moyenne, maximum et minimum : "
     ]
    },
    {
     "cell_type": "code",
     "collapsed": false,
     "input": [
      "functions = ['mean','max','min']"
     ],
     "language": "python",
     "metadata": {},
     "outputs": [],
     "prompt_number": 486
    },
    {
     "cell_type": "markdown",
     "metadata": {},
     "source": [
      "Nous pouvons appeler la m\u00e9thode **agg** qui appliquera pour chacun des groupes les fonctions appel\u00e9es. \n",
      "\n",
      "Si nous souhaitons par exemple afficher la moyenne, le maximum et le minimum des subventions allou\u00e9e par parti politique, nous pouvons \u00e9crire : "
     ]
    },
    {
     "cell_type": "code",
     "collapsed": false,
     "input": [
      "reserve.groupby('parti').agg(functions)"
     ],
     "language": "python",
     "metadata": {},
     "outputs": [
      {
       "html": [
        "<div style=\"max-height:1000px;max-width:1500px;overflow:auto;\">\n",
        "<table border=\"1\" class=\"dataframe\">\n",
        "  <thead>\n",
        "    <tr>\n",
        "      <th></th>\n",
        "      <th colspan=\"3\" halign=\"left\">Co\u00fbt du projet</th>\n",
        "      <th colspan=\"3\" halign=\"left\">Subvention allou\u00e9e</th>\n",
        "      <th colspan=\"3\" halign=\"left\">part_budget</th>\n",
        "    </tr>\n",
        "    <tr>\n",
        "      <th></th>\n",
        "      <th>mean</th>\n",
        "      <th>max</th>\n",
        "      <th>min</th>\n",
        "      <th>mean</th>\n",
        "      <th>max</th>\n",
        "      <th>min</th>\n",
        "      <th>mean</th>\n",
        "      <th>max</th>\n",
        "      <th>min</th>\n",
        "    </tr>\n",
        "    <tr>\n",
        "      <th>parti</th>\n",
        "      <th></th>\n",
        "      <th></th>\n",
        "      <th></th>\n",
        "      <th></th>\n",
        "      <th></th>\n",
        "      <th></th>\n",
        "      <th></th>\n",
        "      <th></th>\n",
        "      <th></th>\n",
        "    </tr>\n",
        "  </thead>\n",
        "  <tbody>\n",
        "    <tr>\n",
        "      <th>Centristes</th>\n",
        "      <td> 190581.809289</td>\n",
        "      <td> 10000000.00</td>\n",
        "      <td>    207.00</td>\n",
        "      <td> 12277.388158</td>\n",
        "      <td> 200000</td>\n",
        "      <td>   103</td>\n",
        "      <td> 0.232050</td>\n",
        "      <td> 0.500000</td>\n",
        "      <td> 0.001797</td>\n",
        "    </tr>\n",
        "    <tr>\n",
        "      <th>Ecologistes</th>\n",
        "      <td> 109675.160000</td>\n",
        "      <td>   109675.16</td>\n",
        "      <td> 109675.16</td>\n",
        "      <td> 27000.000000</td>\n",
        "      <td>  27000</td>\n",
        "      <td> 27000</td>\n",
        "      <td> 0.246182</td>\n",
        "      <td> 0.246182</td>\n",
        "      <td> 0.246182</td>\n",
        "    </tr>\n",
        "    <tr>\n",
        "      <th>Ext. Gauche</th>\n",
        "      <td> 305022.648768</td>\n",
        "      <td>  4553240.00</td>\n",
        "      <td>   1854.43</td>\n",
        "      <td> 20373.442029</td>\n",
        "      <td> 183000</td>\n",
        "      <td>   754</td>\n",
        "      <td> 0.231252</td>\n",
        "      <td> 0.500000</td>\n",
        "      <td> 0.003415</td>\n",
        "    </tr>\n",
        "    <tr>\n",
        "      <th>Non Inscrits</th>\n",
        "      <td> 125298.219333</td>\n",
        "      <td>  2930760.80</td>\n",
        "      <td>    500.00</td>\n",
        "      <td>  8509.641667</td>\n",
        "      <td> 200000</td>\n",
        "      <td>   250</td>\n",
        "      <td> 0.255999</td>\n",
        "      <td> 0.500000</td>\n",
        "      <td> 0.002148</td>\n",
        "    </tr>\n",
        "    <tr>\n",
        "      <th>Parti Socialiste</th>\n",
        "      <td> 174055.722555</td>\n",
        "      <td>  7051620.00</td>\n",
        "      <td>    490.80</td>\n",
        "      <td>  9982.503536</td>\n",
        "      <td> 200000</td>\n",
        "      <td>   150</td>\n",
        "      <td> 0.207144</td>\n",
        "      <td> 0.500000</td>\n",
        "      <td> 0.000526</td>\n",
        "    </tr>\n",
        "    <tr>\n",
        "      <th>Radicaux</th>\n",
        "      <td> 171573.573509</td>\n",
        "      <td>  3561000.00</td>\n",
        "      <td>   2489.85</td>\n",
        "      <td> 12386.684211</td>\n",
        "      <td> 105000</td>\n",
        "      <td>   500</td>\n",
        "      <td> 0.221635</td>\n",
        "      <td> 0.500000</td>\n",
        "      <td> 0.000547</td>\n",
        "    </tr>\n",
        "    <tr>\n",
        "      <th>Union Mouvement Populaire</th>\n",
        "      <td> 176279.760408</td>\n",
        "      <td> 12700000.00</td>\n",
        "      <td>    569.00</td>\n",
        "      <td> 14755.733740</td>\n",
        "      <td> 200000</td>\n",
        "      <td>    50</td>\n",
        "      <td> 0.242309</td>\n",
        "      <td> 0.500000</td>\n",
        "      <td> 0.001403</td>\n",
        "    </tr>\n",
        "  </tbody>\n",
        "</table>\n",
        "</div>"
       ],
       "metadata": {},
       "output_type": "pyout",
       "prompt_number": 488,
       "text": [
        "                          Co\u00fbt du projet                          \\\n",
        "                                    mean          max        min   \n",
        "parti                                                              \n",
        "Centristes                 190581.809289  10000000.00     207.00   \n",
        "Ecologistes                109675.160000    109675.16  109675.16   \n",
        "Ext. Gauche                305022.648768   4553240.00    1854.43   \n",
        "Non Inscrits               125298.219333   2930760.80     500.00   \n",
        "Parti Socialiste           174055.722555   7051620.00     490.80   \n",
        "Radicaux                   171573.573509   3561000.00    2489.85   \n",
        "Union Mouvement Populaire  176279.760408  12700000.00     569.00   \n",
        "\n",
        "                          Subvention allou\u00e9e                part_budget  \\\n",
        "                                        mean     max    min        mean   \n",
        "parti                                                                     \n",
        "Centristes                      12277.388158  200000    103    0.232050   \n",
        "Ecologistes                     27000.000000   27000  27000    0.246182   \n",
        "Ext. Gauche                     20373.442029  183000    754    0.231252   \n",
        "Non Inscrits                     8509.641667  200000    250    0.255999   \n",
        "Parti Socialiste                 9982.503536  200000    150    0.207144   \n",
        "Radicaux                        12386.684211  105000    500    0.221635   \n",
        "Union Mouvement Populaire       14755.733740  200000     50    0.242309   \n",
        "\n",
        "                                               \n",
        "                                max       min  \n",
        "parti                                          \n",
        "Centristes                 0.500000  0.001797  \n",
        "Ecologistes                0.246182  0.246182  \n",
        "Ext. Gauche                0.500000  0.003415  \n",
        "Non Inscrits               0.500000  0.002148  \n",
        "Parti Socialiste           0.500000  0.000526  \n",
        "Radicaux                   0.500000  0.000547  \n",
        "Union Mouvement Populaire  0.500000  0.001403  "
       ]
      }
     ],
     "prompt_number": 488
    },
    {
     "cell_type": "markdown",
     "metadata": {},
     "source": [
      "Il est \u00e9galement possible de d\u00e9finir ses propres aggr\u00e9gations gr\u00e2ce \u00e0 la m\u00e9thode **apply**\n",
      "\n",
      "Comme pr\u00e9cis\u00e9 pr\u00e9c\u00e9demment, la m\u00e9thode **apply** s\u00e9pare un set de donn\u00e9es suivant les dimensions "
     ]
    },
    {
     "cell_type": "code",
     "collapsed": false,
     "input": [
      "def part(df):\n",
      "    return np.mean(df['Subvention allou\u00e9e']/df['Co\u00fbt du projet'])"
     ],
     "language": "python",
     "metadata": {},
     "outputs": [],
     "prompt_number": 328
    },
    {
     "cell_type": "code",
     "collapsed": false,
     "input": [
      "reserve.groupby('D\u00e9partement').apply(part).order(ascending=False)"
     ],
     "language": "python",
     "metadata": {},
     "outputs": [
      {
       "metadata": {},
       "output_type": "pyout",
       "prompt_number": 329,
       "text": [
        "D\u00e9partement\n",
        "PARIS                    0.464954\n",
        "GUADELOUPE               0.462033\n",
        "CORSE-DU-SUD             0.432616\n",
        "LA REUNION               0.425650\n",
        "OISE                     0.401674\n",
        "VAL-DE-MARNE             0.400125\n",
        "HAUTE-CORSE              0.379992\n",
        "MARTINIQUE               0.362335\n",
        "VAL-D'OISE               0.358144\n",
        "TERRITOIRE DE BELFORT    0.336876\n",
        "HAUTE-VIENNE             0.335820\n",
        "AUDE                     0.316501\n",
        "YVELINES                 0.304405\n",
        "NORD                     0.302438\n",
        "EURE                     0.302262\n",
        "...\n",
        "YONNE             0.146784\n",
        "VAUCLUSE          0.146309\n",
        "DEUX-SEVRES       0.146088\n",
        "VOSGES            0.145508\n",
        "DORDOGNE          0.143131\n",
        "GERS              0.139002\n",
        "HAUT-RHIN         0.138084\n",
        "MAINE-ET-LOIRE    0.136980\n",
        "CORREZE           0.134685\n",
        "VENDEE            0.129960\n",
        "MORBIHAN          0.121805\n",
        "COTES-D'ARMOR     0.120652\n",
        "CHARENTE          0.120588\n",
        "LANDES            0.120308\n",
        "VIENNE            0.119057\n",
        "Length: 101, dtype: float64"
       ]
      }
     ],
     "prompt_number": 329
    },
    {
     "cell_type": "code",
     "collapsed": false,
     "input": [],
     "language": "python",
     "metadata": {},
     "outputs": [],
     "prompt_number": 316
    },
    {
     "cell_type": "code",
     "collapsed": false,
     "input": [],
     "language": "python",
     "metadata": {},
     "outputs": []
    }
   ],
   "metadata": {}
  }
 ]
}