{
 "metadata": {
  "name": ""
 },
 "nbformat": 3,
 "nbformat_minor": 0,
 "worksheets": [
  {
   "cells": [
    {
     "cell_type": "heading",
     "level": 1,
     "metadata": {},
     "source": [
      "Introduction \u00e0 Numpy"
     ]
    },
    {
     "cell_type": "markdown",
     "metadata": {},
     "source": [
      "Numpy, pour numerical Python est un package de base contenant des fonctions et des objets essentiels au traitement de donn\u00e9es en Python"
     ]
    },
    {
     "cell_type": "code",
     "collapsed": false,
     "input": [
      "import numpy as np\n",
      "from numpy.random import randn"
     ],
     "language": "python",
     "metadata": {},
     "outputs": [],
     "prompt_number": 1
    },
    {
     "cell_type": "heading",
     "level": 2,
     "metadata": {},
     "source": [
      "ndarray"
     ]
    },
    {
     "cell_type": "markdown",
     "metadata": {},
     "source": [
      "ndarray est un tableau \u00e0 n-dimensions d'\u00e9l\u00e9ments de m\u00eame type. "
     ]
    },
    {
     "cell_type": "code",
     "collapsed": false,
     "input": [
      "#On cr\u00e9e ici un tableau de 2 lignes et 3 colonnes\n",
      "\n",
      "data = randn(2,3)\n",
      "\n",
      "print data"
     ],
     "language": "python",
     "metadata": {},
     "outputs": [
      {
       "output_type": "stream",
       "stream": "stdout",
       "text": [
        "[[-0.62467686  1.14855976 -0.72502645]\n",
        " [ 0.20159337 -1.20484897 -0.95673594]]\n"
       ]
      }
     ],
     "prompt_number": 3
    },
    {
     "cell_type": "markdown",
     "metadata": {},
     "source": [
      "ndarray permet de r\u00e9aliser des op\u00e9rations math\u00e9matiques en bloc. "
     ]
    },
    {
     "cell_type": "code",
     "collapsed": false,
     "input": [
      "#Multiplier tous les \u00e9l\u00e9ments par 10 \n",
      "\n",
      "print data*10"
     ],
     "language": "python",
     "metadata": {},
     "outputs": [
      {
       "output_type": "stream",
       "stream": "stdout",
       "text": [
        "[[ -6.24676857  11.48559756  -7.25026452]\n",
        " [  2.01593372 -12.04848967  -9.56735936]]\n"
       ]
      }
     ],
     "prompt_number": 4
    },
    {
     "cell_type": "markdown",
     "metadata": {},
     "source": [
      "La m\u00e9thode ***array*** permet de cr\u00e9er un nparray :"
     ]
    },
    {
     "cell_type": "code",
     "collapsed": false,
     "input": [
      "# A partir d'une liste\n",
      "\n",
      "data1 = [1,2,3,4]\n",
      "\n",
      "arr1 = np.array(data1)\n",
      "\n",
      "# A partir d'une liste de liste \n",
      "\n",
      "data2 = [[1,2,3],[4,5,6]]\n",
      "\n",
      "arr2 = np.array(data2)"
     ],
     "language": "python",
     "metadata": {},
     "outputs": [],
     "prompt_number": 8
    },
    {
     "cell_type": "markdown",
     "metadata": {},
     "source": [
      "Il existe d'autres fonctions pour cr\u00e9er facilement des ***ndarrays*** :"
     ]
    },
    {
     "cell_type": "code",
     "collapsed": false,
     "input": [
      "# cr\u00e9er des listes de 0\n",
      "\n",
      "np.zeros(15)\n",
      "\n",
      "# cr\u00e9er des listes de 1\n",
      "\n",
      "np.ones(15)\n",
      "\n",
      "# cr\u00e9er une s\u00e9quence \n",
      "\n",
      "np.arange(15)"
     ],
     "language": "python",
     "metadata": {},
     "outputs": [
      {
       "metadata": {},
       "output_type": "pyout",
       "prompt_number": 43,
       "text": [
        "array([ 0,  1,  2,  3,  4,  5,  6,  7,  8,  9, 10, 11, 12, 13, 14])"
       ]
      }
     ],
     "prompt_number": 43
    },
    {
     "cell_type": "markdown",
     "metadata": {},
     "source": [
      "Les types de donn\u00e9es (DataTypes) sont cl\u00e9s dans la performance des ndarray. On peut afficher les types de donn\u00e9es avec la m\u00e9thode ***dtype***"
     ]
    },
    {
     "cell_type": "code",
     "collapsed": false,
     "input": [
      "# Il existe plusieurs types de donn\u00e9es int (integer), float (floating number) etc..\n",
      "\n",
      "arr = np.arange(15)\n",
      "\n",
      "arr.dtype"
     ],
     "language": "python",
     "metadata": {},
     "outputs": [
      {
       "metadata": {},
       "output_type": "pyout",
       "prompt_number": 50,
       "text": [
        "dtype('int64')"
       ]
      }
     ],
     "prompt_number": 50
    },
    {
     "cell_type": "markdown",
     "metadata": {},
     "source": [
      "On peut changer les types de donn\u00e9es d'un ndarray en utilisant la m\u00e9thode ***astype***"
     ]
    },
    {
     "cell_type": "code",
     "collapsed": false,
     "input": [
      "float_arr = arr.astype(np.float64)\n",
      "\n",
      "print float_arr"
     ],
     "language": "python",
     "metadata": {},
     "outputs": [
      {
       "output_type": "stream",
       "stream": "stdout",
       "text": [
        "[  0.   1.   2.   3.   4.   5.   6.   7.   8.   9.  10.  11.  12.  13.  14.]\n"
       ]
      }
     ],
     "prompt_number": 53
    },
    {
     "cell_type": "markdown",
     "metadata": {},
     "source": [
      "Changer les types de donn\u00e9es peut \u00eatre utile lorqu'on veut transformer du texte en nombre :"
     ]
    },
    {
     "cell_type": "code",
     "collapsed": false,
     "input": [
      "arr_string = np.array(['1.2','2.3','3.5'])\n",
      "\n",
      "arr_string.astype(np.float64)"
     ],
     "language": "python",
     "metadata": {},
     "outputs": [
      {
       "metadata": {},
       "output_type": "pyout",
       "prompt_number": 9,
       "text": [
        "array([ 1.2,  2.3,  3.5])"
       ]
      }
     ],
     "prompt_number": 9
    },
    {
     "cell_type": "heading",
     "level": 3,
     "metadata": {},
     "source": [
      "Indexing"
     ]
    },
    {
     "cell_type": "markdown",
     "metadata": {},
     "source": [
      "Il existe plusieurs fa\u00e7ons de s\u00e9lectionner des \u00e9l\u00e9ments au sein d'un array \u00e0 1 dimension :"
     ]
    },
    {
     "cell_type": "code",
     "collapsed": false,
     "input": [
      "# S\u00e9lection d'un \u00e9l\u00e9ment \n",
      "\n",
      "arr[5]\n",
      "\n",
      "# S\u00e9lection d'une partie d'un array \n",
      "\n",
      "arr[5:9]\n",
      "\n"
     ],
     "language": "python",
     "metadata": {},
     "outputs": [
      {
       "metadata": {},
       "output_type": "pyout",
       "prompt_number": 67,
       "text": [
        "array([5, 6, 7, 8])"
       ]
      }
     ],
     "prompt_number": 67
    },
    {
     "cell_type": "markdown",
     "metadata": {},
     "source": [
      "La s\u00e9lection pour les array \u00e0 deux dimensions fonctionne comme ceci :"
     ]
    },
    {
     "cell_type": "code",
     "collapsed": false,
     "input": [
      "arr2d = np.array([[1,2,3],[4,5,6],[7,8,9]])"
     ],
     "language": "python",
     "metadata": {},
     "outputs": [
      {
       "output_type": "stream",
       "stream": "stdout",
       "text": [
        "[[1 2 3]\n",
        " [4 5 6]\n",
        " [7 8 9]]\n"
       ]
      }
     ],
     "prompt_number": 16
    },
    {
     "cell_type": "markdown",
     "metadata": {},
     "source": [
      "<img src='files/matrice.png'>"
     ]
    },
    {
     "cell_type": "code",
     "collapsed": false,
     "input": [
      "# S\u00e9lectionner la premi\u00e8re ligne de arr2d\n",
      "\n",
      "arr2d[0]\n",
      "\n",
      "# S\u00e9lectionner la premi\u00e8re colonne de arr2d \n",
      "\n",
      "arr2d[:,0]\n",
      "\n",
      "# S\u00e9lectionner l'\u00e9l\u00e9ement \u00e0 la deuxi\u00e8me ligne, troisi\u00e8me colonne\n",
      "\n",
      "arr2d[1][2]\n",
      "arr2d[1,2]\n",
      "\n",
      "# Tous les \u00e9l\u00e9ments entre la deuxi\u00e8me et troisi\u00e8me ligne\n",
      "\n",
      "arr2d[1:]"
     ],
     "language": "python",
     "metadata": {},
     "outputs": [
      {
       "metadata": {},
       "output_type": "pyout",
       "prompt_number": 77,
       "text": [
        "array([[4, 5, 6],\n",
        "       [7, 8, 9]])"
       ]
      }
     ],
     "prompt_number": 77
    },
    {
     "cell_type": "heading",
     "level": 3,
     "metadata": {},
     "source": [
      "### Ajouter ici des exercices de s\u00e9lection d'indexing ####"
     ]
    },
    {
     "cell_type": "heading",
     "level": 3,
     "metadata": {},
     "source": [
      "Boolean Indexing "
     ]
    },
    {
     "cell_type": "markdown",
     "metadata": {},
     "source": [
      "La s\u00e9lection d'un ndarray peut \u00e9galement se faire en int\u00e9grant des conditions : "
     ]
    },
    {
     "cell_type": "code",
     "collapsed": false,
     "input": [
      "arr = np.arange(-10,10,0.5)\n",
      "\n",
      "# Renvoyer tous les \u00e9l\u00e9ments de arr positifs\n",
      "\n",
      "arr > 0 # renvoie un array de type bool\u00e9en comparant chacun des \u00e9l\u00e9ments \u00e0 la condition \n",
      "\n",
      "arr[arr > 0] # renvoie tous les \u00e9l\u00e9ments de arr v\u00e9rifiant la condition. On appelle cela le boolean indexing. \n",
      "\n",
      "# Renvoyer tous les \u00e9l\u00e9ments de arr n\u00e9gatifs \n",
      "\n",
      "# Renvoyer les \u00e9l\u00e9ments diff\u00e9rents de 2\n",
      "\n",
      "# Renvoyer les \u00e9l\u00e9ments \u00e9gaux \u00e0 2 ou 3"
     ],
     "language": "python",
     "metadata": {},
     "outputs": [
      {
       "metadata": {},
       "output_type": "pyout",
       "prompt_number": 16,
       "text": [
        "array([False, False, False, False, False, False, False, False, False,\n",
        "       False, False, False, False, False, False, False, False, False,\n",
        "       False, False, False,  True,  True,  True,  True,  True,  True,\n",
        "        True,  True,  True,  True,  True,  True,  True,  True,  True,\n",
        "        True,  True,  True,  True], dtype=bool)"
       ]
      }
     ],
     "prompt_number": 16
    },
    {
     "cell_type": "markdown",
     "metadata": {},
     "source": [
      "La s\u00e9lection par op\u00e9rateur bool\u00e9en cr\u00e9e une copie d'un array. On peut bien entendu modifier les valeurs en utilisant la m\u00eame logique : "
     ]
    },
    {
     "cell_type": "code",
     "collapsed": false,
     "input": [
      "# Remplacer tous les \u00e9l\u00e9ments n\u00e9gatifs par 0 \n",
      "\n",
      "arr[arr < 0] = 0\n",
      "\n",
      "print arr"
     ],
     "language": "python",
     "metadata": {},
     "outputs": [
      {
       "output_type": "stream",
       "stream": "stdout",
       "text": [
        "[ 0.   0.   0.   0.   0.   0.   0.   0.   0.   0.   0.   0.   0.   0.   0.\n",
        "  0.   0.   0.   0.   0.   0.   0.5  1.   1.5  2.   2.5  3.   3.5  4.   4.5\n",
        "  5.   5.5  6.   6.5  7.   7.5  8.   8.5  9.   9.5]\n"
       ]
      }
     ],
     "prompt_number": 18
    },
    {
     "cell_type": "heading",
     "level": 2,
     "metadata": {},
     "source": [
      "Universal functions"
     ]
    },
    {
     "cell_type": "markdown",
     "metadata": {},
     "source": [
      "Les universal functions ou ***ufunc*** permettent de r\u00e9aliser des op\u00e9rations de mani\u00e8re rapide sur un ndarray. "
     ]
    },
    {
     "cell_type": "code",
     "collapsed": false,
     "input": [
      "# Renvoyer la racine carr\u00e9 pour chaque \u00e9l\u00e9ment \n",
      "\n",
      "arr = np.arange(1,10,1)\n",
      "\n",
      "np.sqrt(arr)"
     ],
     "language": "python",
     "metadata": {},
     "outputs": [
      {
       "metadata": {},
       "output_type": "pyout",
       "prompt_number": 20,
       "text": [
        "array([ 1.        ,  1.41421356,  1.73205081,  2.        ,  2.23606798,\n",
        "        2.44948974,  2.64575131,  2.82842712,  3.        ])"
       ]
      }
     ],
     "prompt_number": 20
    },
    {
     "cell_type": "markdown",
     "metadata": {},
     "source": [
      "D'autres fonctions peuvent prendre deux tableaux en argument :"
     ]
    },
    {
     "cell_type": "code",
     "collapsed": false,
     "input": [
      "# Comparer deux tableaux et obtenir le maximum \n",
      "\n",
      "a = randn(10)\n",
      "b = randn(10)\n",
      "\n",
      "max = np.maximum(a,b)\n",
      "\n",
      "print max"
     ],
     "language": "python",
     "metadata": {},
     "outputs": [
      {
       "output_type": "stream",
       "stream": "stdout",
       "text": [
        "[ 1.2321323   1.33342549  0.6861044   1.41133865  0.72494997  1.16231986\n",
        "  1.04716381  0.24121107  1.77302538  1.87480252]\n"
       ]
      }
     ],
     "prompt_number": 29
    },
    {
     "cell_type": "heading",
     "level": 2,
     "metadata": {},
     "source": [
      "Data Processing"
     ]
    },
    {
     "cell_type": "markdown",
     "metadata": {},
     "source": [
      "Numpy permet de r\u00e9aliser des traitements de donn\u00e9es sans passer par des boucles Python. \n",
      "\n",
      "Cette fa\u00e7on de traiter des donn\u00e9es, aussi appel\u00e9e ***Vectorization***, est plus performante (et plus \u00e9l\u00e9gante ;) )"
     ]
    },
    {
     "cell_type": "code",
     "collapsed": false,
     "input": [
      "arr1 = randn(10)\n",
      "arr2 = randn(10)\n",
      "\n",
      "# Supposons que nous souhaitions comparer deux \u00e0 deux tous les \u00e9l\u00e9ments de arr1 et de arr2. \n",
      "\n",
      "# Nous commen\u00e7ons par d\u00e9finir une condition (qui renvoie un array de bool\u00e9en)\n",
      "\n",
      "cond = arr1 > arr2\n",
      "\n",
      "# Nous utilisons la m\u00e9thode np.where pour appliquer cette condition \u00e0 nos deux tableaux\n",
      "\n",
      "np.where(cond, arr1, arr2)"
     ],
     "language": "python",
     "metadata": {},
     "outputs": [
      {
       "output_type": "stream",
       "stream": "stdout",
       "text": [
        "[-0.10568007 -1.37891944  1.49519087  0.25618599 -1.28639015  0.92191553\n",
        "  0.90842336  0.28779423  1.57475937  0.98982116]\n"
       ]
      }
     ],
     "prompt_number": 15
    },
    {
     "cell_type": "code",
     "collapsed": false,
     "input": [],
     "language": "python",
     "metadata": {},
     "outputs": []
    }
   ],
   "metadata": {}
  }
 ]
}